{
 "cells": [
  {
   "cell_type": "markdown",
   "metadata": {},
   "source": [
    "# Project Anomaly Finder API Example"
   ]
  },
  {
   "cell_type": "markdown",
   "metadata": {},
   "source": [
    "### This Jupyter notebook shows you how to get started with the Project Anomaly Finder API in Python, and how to visualize your results."
   ]
  },
  {
   "cell_type": "code",
   "execution_count": 1,
   "metadata": {},
   "outputs": [],
   "source": [
    "import requests\n",
    "import json\n",
    "import pandas as pd\n",
    "import numpy as np\n",
    "from __future__ import print_function\n",
    "import warnings\n",
    "warnings.filterwarnings('ignore')\n",
    "\n",
    "# Import library to display results\n",
    "import matplotlib.pyplot as plt\n",
    "%matplotlib inline "
   ]
  },
  {
   "cell_type": "code",
   "execution_count": 2,
   "metadata": {},
   "outputs": [
    {
     "data": {
      "text/html": [
       "\n",
       "    <div class=\"bk-root\">\n",
       "        <a href=\"https://bokeh.pydata.org\" target=\"_blank\" class=\"bk-logo bk-logo-small bk-logo-notebook\"></a>\n",
       "        <span id=\"305c0ed0-567f-42e4-ab9b-b5114cb610bb\">Loading BokehJS ...</span>\n",
       "    </div>"
      ]
     },
     "metadata": {},
     "output_type": "display_data"
    },
    {
     "data": {
      "application/javascript": [
       "\n",
       "(function(root) {\n",
       "  function now() {\n",
       "    return new Date();\n",
       "  }\n",
       "\n",
       "  var force = true;\n",
       "\n",
       "  if (typeof (root._bokeh_onload_callbacks) === \"undefined\" || force === true) {\n",
       "    root._bokeh_onload_callbacks = [];\n",
       "    root._bokeh_is_loading = undefined;\n",
       "  }\n",
       "\n",
       "  var JS_MIME_TYPE = 'application/javascript';\n",
       "  var HTML_MIME_TYPE = 'text/html';\n",
       "  var EXEC_MIME_TYPE = 'application/vnd.bokehjs_exec.v0+json';\n",
       "  var CLASS_NAME = 'output_bokeh rendered_html';\n",
       "\n",
       "  /**\n",
       "   * Render data to the DOM node\n",
       "   */\n",
       "  function render(props, node) {\n",
       "    var script = document.createElement(\"script\");\n",
       "    node.appendChild(script);\n",
       "  }\n",
       "\n",
       "  /**\n",
       "   * Handle when an output is cleared or removed\n",
       "   */\n",
       "  function handleClearOutput(event, handle) {\n",
       "    var cell = handle.cell;\n",
       "\n",
       "    var id = cell.output_area._bokeh_element_id;\n",
       "    var server_id = cell.output_area._bokeh_server_id;\n",
       "    // Clean up Bokeh references\n",
       "    if (id !== undefined) {\n",
       "      Bokeh.index[id].model.document.clear();\n",
       "      delete Bokeh.index[id];\n",
       "    }\n",
       "\n",
       "    if (server_id !== undefined) {\n",
       "      // Clean up Bokeh references\n",
       "      var cmd = \"from bokeh.io.state import curstate; print(curstate().uuid_to_server['\" + server_id + \"'].get_sessions()[0].document.roots[0]._id)\";\n",
       "      cell.notebook.kernel.execute(cmd, {\n",
       "        iopub: {\n",
       "          output: function(msg) {\n",
       "            var element_id = msg.content.text.trim();\n",
       "            Bokeh.index[element_id].model.document.clear();\n",
       "            delete Bokeh.index[element_id];\n",
       "          }\n",
       "        }\n",
       "      });\n",
       "      // Destroy server and session\n",
       "      var cmd = \"import bokeh.io.notebook as ion; ion.destroy_server('\" + server_id + \"')\";\n",
       "      cell.notebook.kernel.execute(cmd);\n",
       "    }\n",
       "  }\n",
       "\n",
       "  /**\n",
       "   * Handle when a new output is added\n",
       "   */\n",
       "  function handleAddOutput(event, handle) {\n",
       "    var output_area = handle.output_area;\n",
       "    var output = handle.output;\n",
       "\n",
       "    // limit handleAddOutput to display_data with EXEC_MIME_TYPE content only\n",
       "    if ((output.output_type != \"display_data\") || (!output.data.hasOwnProperty(EXEC_MIME_TYPE))) {\n",
       "      return\n",
       "    }\n",
       "\n",
       "    var toinsert = output_area.element.find(\".\" + CLASS_NAME.split(' ')[0]);\n",
       "\n",
       "    if (output.metadata[EXEC_MIME_TYPE][\"id\"] !== undefined) {\n",
       "      toinsert[toinsert.length - 1].firstChild.textContent = output.data[JS_MIME_TYPE];\n",
       "      // store reference to embed id on output_area\n",
       "      output_area._bokeh_element_id = output.metadata[EXEC_MIME_TYPE][\"id\"];\n",
       "    }\n",
       "    if (output.metadata[EXEC_MIME_TYPE][\"server_id\"] !== undefined) {\n",
       "      var bk_div = document.createElement(\"div\");\n",
       "      bk_div.innerHTML = output.data[HTML_MIME_TYPE];\n",
       "      var script_attrs = bk_div.children[0].attributes;\n",
       "      for (var i = 0; i < script_attrs.length; i++) {\n",
       "        toinsert[toinsert.length - 1].firstChild.setAttribute(script_attrs[i].name, script_attrs[i].value);\n",
       "      }\n",
       "      // store reference to server id on output_area\n",
       "      output_area._bokeh_server_id = output.metadata[EXEC_MIME_TYPE][\"server_id\"];\n",
       "    }\n",
       "  }\n",
       "\n",
       "  function register_renderer(events, OutputArea) {\n",
       "\n",
       "    function append_mime(data, metadata, element) {\n",
       "      // create a DOM node to render to\n",
       "      var toinsert = this.create_output_subarea(\n",
       "        metadata,\n",
       "        CLASS_NAME,\n",
       "        EXEC_MIME_TYPE\n",
       "      );\n",
       "      this.keyboard_manager.register_events(toinsert);\n",
       "      // Render to node\n",
       "      var props = {data: data, metadata: metadata[EXEC_MIME_TYPE]};\n",
       "      render(props, toinsert[toinsert.length - 1]);\n",
       "      element.append(toinsert);\n",
       "      return toinsert\n",
       "    }\n",
       "\n",
       "    /* Handle when an output is cleared or removed */\n",
       "    events.on('clear_output.CodeCell', handleClearOutput);\n",
       "    events.on('delete.Cell', handleClearOutput);\n",
       "\n",
       "    /* Handle when a new output is added */\n",
       "    events.on('output_added.OutputArea', handleAddOutput);\n",
       "\n",
       "    /**\n",
       "     * Register the mime type and append_mime function with output_area\n",
       "     */\n",
       "    OutputArea.prototype.register_mime_type(EXEC_MIME_TYPE, append_mime, {\n",
       "      /* Is output safe? */\n",
       "      safe: true,\n",
       "      /* Index of renderer in `output_area.display_order` */\n",
       "      index: 0\n",
       "    });\n",
       "  }\n",
       "\n",
       "  // register the mime type if in Jupyter Notebook environment and previously unregistered\n",
       "  if (root.Jupyter !== undefined) {\n",
       "    var events = require('base/js/events');\n",
       "    var OutputArea = require('notebook/js/outputarea').OutputArea;\n",
       "\n",
       "    if (OutputArea.prototype.mime_types().indexOf(EXEC_MIME_TYPE) == -1) {\n",
       "      register_renderer(events, OutputArea);\n",
       "    }\n",
       "  }\n",
       "\n",
       "  \n",
       "  if (typeof (root._bokeh_timeout) === \"undefined\" || force === true) {\n",
       "    root._bokeh_timeout = Date.now() + 5000;\n",
       "    root._bokeh_failed_load = false;\n",
       "  }\n",
       "\n",
       "  var NB_LOAD_WARNING = {'data': {'text/html':\n",
       "     \"<div style='background-color: #fdd'>\\n\"+\n",
       "     \"<p>\\n\"+\n",
       "     \"BokehJS does not appear to have successfully loaded. If loading BokehJS from CDN, this \\n\"+\n",
       "     \"may be due to a slow or bad network connection. Possible fixes:\\n\"+\n",
       "     \"</p>\\n\"+\n",
       "     \"<ul>\\n\"+\n",
       "     \"<li>re-rerun `output_notebook()` to attempt to load from CDN again, or</li>\\n\"+\n",
       "     \"<li>use INLINE resources instead, as so:</li>\\n\"+\n",
       "     \"</ul>\\n\"+\n",
       "     \"<code>\\n\"+\n",
       "     \"from bokeh.resources import INLINE\\n\"+\n",
       "     \"output_notebook(resources=INLINE)\\n\"+\n",
       "     \"</code>\\n\"+\n",
       "     \"</div>\"}};\n",
       "\n",
       "  function display_loaded() {\n",
       "    var el = document.getElementById(\"305c0ed0-567f-42e4-ab9b-b5114cb610bb\");\n",
       "    if (el != null) {\n",
       "      el.textContent = \"BokehJS is loading...\";\n",
       "    }\n",
       "    if (root.Bokeh !== undefined) {\n",
       "      if (el != null) {\n",
       "        el.textContent = \"BokehJS \" + root.Bokeh.version + \" successfully loaded.\";\n",
       "      }\n",
       "    } else if (Date.now() < root._bokeh_timeout) {\n",
       "      setTimeout(display_loaded, 100)\n",
       "    }\n",
       "  }\n",
       "\n",
       "\n",
       "  function run_callbacks() {\n",
       "    try {\n",
       "      root._bokeh_onload_callbacks.forEach(function(callback) { callback() });\n",
       "    }\n",
       "    finally {\n",
       "      delete root._bokeh_onload_callbacks\n",
       "    }\n",
       "    console.info(\"Bokeh: all callbacks have finished\");\n",
       "  }\n",
       "\n",
       "  function load_libs(js_urls, callback) {\n",
       "    root._bokeh_onload_callbacks.push(callback);\n",
       "    if (root._bokeh_is_loading > 0) {\n",
       "      console.log(\"Bokeh: BokehJS is being loaded, scheduling callback at\", now());\n",
       "      return null;\n",
       "    }\n",
       "    if (js_urls == null || js_urls.length === 0) {\n",
       "      run_callbacks();\n",
       "      return null;\n",
       "    }\n",
       "    console.log(\"Bokeh: BokehJS not loaded, scheduling load and callback at\", now());\n",
       "    root._bokeh_is_loading = js_urls.length;\n",
       "    for (var i = 0; i < js_urls.length; i++) {\n",
       "      var url = js_urls[i];\n",
       "      var s = document.createElement('script');\n",
       "      s.src = url;\n",
       "      s.async = false;\n",
       "      s.onreadystatechange = s.onload = function() {\n",
       "        root._bokeh_is_loading--;\n",
       "        if (root._bokeh_is_loading === 0) {\n",
       "          console.log(\"Bokeh: all BokehJS libraries loaded\");\n",
       "          run_callbacks()\n",
       "        }\n",
       "      };\n",
       "      s.onerror = function() {\n",
       "        console.warn(\"failed to load library \" + url);\n",
       "      };\n",
       "      console.log(\"Bokeh: injecting script tag for BokehJS library: \", url);\n",
       "      document.getElementsByTagName(\"head\")[0].appendChild(s);\n",
       "    }\n",
       "  };var element = document.getElementById(\"305c0ed0-567f-42e4-ab9b-b5114cb610bb\");\n",
       "  if (element == null) {\n",
       "    console.log(\"Bokeh: ERROR: autoload.js configured with elementid '305c0ed0-567f-42e4-ab9b-b5114cb610bb' but no matching script tag was found. \")\n",
       "    return false;\n",
       "  }\n",
       "\n",
       "  var js_urls = [\"https://cdn.pydata.org/bokeh/release/bokeh-0.12.16.min.js\", \"https://cdn.pydata.org/bokeh/release/bokeh-widgets-0.12.16.min.js\", \"https://cdn.pydata.org/bokeh/release/bokeh-tables-0.12.16.min.js\", \"https://cdn.pydata.org/bokeh/release/bokeh-gl-0.12.16.min.js\"];\n",
       "\n",
       "  var inline_js = [\n",
       "    function(Bokeh) {\n",
       "      Bokeh.set_log_level(\"info\");\n",
       "    },\n",
       "    \n",
       "    function(Bokeh) {\n",
       "      \n",
       "    },\n",
       "    function(Bokeh) {\n",
       "      console.log(\"Bokeh: injecting CSS: https://cdn.pydata.org/bokeh/release/bokeh-0.12.16.min.css\");\n",
       "      Bokeh.embed.inject_css(\"https://cdn.pydata.org/bokeh/release/bokeh-0.12.16.min.css\");\n",
       "      console.log(\"Bokeh: injecting CSS: https://cdn.pydata.org/bokeh/release/bokeh-widgets-0.12.16.min.css\");\n",
       "      Bokeh.embed.inject_css(\"https://cdn.pydata.org/bokeh/release/bokeh-widgets-0.12.16.min.css\");\n",
       "      console.log(\"Bokeh: injecting CSS: https://cdn.pydata.org/bokeh/release/bokeh-tables-0.12.16.min.css\");\n",
       "      Bokeh.embed.inject_css(\"https://cdn.pydata.org/bokeh/release/bokeh-tables-0.12.16.min.css\");\n",
       "    }\n",
       "  ];\n",
       "\n",
       "  function run_inline_js() {\n",
       "    \n",
       "    if ((root.Bokeh !== undefined) || (force === true)) {\n",
       "      for (var i = 0; i < inline_js.length; i++) {\n",
       "        inline_js[i].call(root, root.Bokeh);\n",
       "      }if (force === true) {\n",
       "        display_loaded();\n",
       "      }} else if (Date.now() < root._bokeh_timeout) {\n",
       "      setTimeout(run_inline_js, 100);\n",
       "    } else if (!root._bokeh_failed_load) {\n",
       "      console.log(\"Bokeh: BokehJS failed to load within specified timeout.\");\n",
       "      root._bokeh_failed_load = true;\n",
       "    } else if (force !== true) {\n",
       "      var cell = $(document.getElementById(\"305c0ed0-567f-42e4-ab9b-b5114cb610bb\")).parents('.cell').data().cell;\n",
       "      cell.output_area.append_execute_result(NB_LOAD_WARNING)\n",
       "    }\n",
       "\n",
       "  }\n",
       "\n",
       "  if (root._bokeh_is_loading === 0) {\n",
       "    console.log(\"Bokeh: BokehJS loaded, going straight to plotting\");\n",
       "    run_inline_js();\n",
       "  } else {\n",
       "    load_libs(js_urls, function() {\n",
       "      console.log(\"Bokeh: BokehJS plotting callback run at\", now());\n",
       "      run_inline_js();\n",
       "    });\n",
       "  }\n",
       "}(window));"
      ],
      "application/vnd.bokehjs_load.v0+json": "\n(function(root) {\n  function now() {\n    return new Date();\n  }\n\n  var force = true;\n\n  if (typeof (root._bokeh_onload_callbacks) === \"undefined\" || force === true) {\n    root._bokeh_onload_callbacks = [];\n    root._bokeh_is_loading = undefined;\n  }\n\n  \n\n  \n  if (typeof (root._bokeh_timeout) === \"undefined\" || force === true) {\n    root._bokeh_timeout = Date.now() + 5000;\n    root._bokeh_failed_load = false;\n  }\n\n  var NB_LOAD_WARNING = {'data': {'text/html':\n     \"<div style='background-color: #fdd'>\\n\"+\n     \"<p>\\n\"+\n     \"BokehJS does not appear to have successfully loaded. If loading BokehJS from CDN, this \\n\"+\n     \"may be due to a slow or bad network connection. Possible fixes:\\n\"+\n     \"</p>\\n\"+\n     \"<ul>\\n\"+\n     \"<li>re-rerun `output_notebook()` to attempt to load from CDN again, or</li>\\n\"+\n     \"<li>use INLINE resources instead, as so:</li>\\n\"+\n     \"</ul>\\n\"+\n     \"<code>\\n\"+\n     \"from bokeh.resources import INLINE\\n\"+\n     \"output_notebook(resources=INLINE)\\n\"+\n     \"</code>\\n\"+\n     \"</div>\"}};\n\n  function display_loaded() {\n    var el = document.getElementById(\"305c0ed0-567f-42e4-ab9b-b5114cb610bb\");\n    if (el != null) {\n      el.textContent = \"BokehJS is loading...\";\n    }\n    if (root.Bokeh !== undefined) {\n      if (el != null) {\n        el.textContent = \"BokehJS \" + root.Bokeh.version + \" successfully loaded.\";\n      }\n    } else if (Date.now() < root._bokeh_timeout) {\n      setTimeout(display_loaded, 100)\n    }\n  }\n\n\n  function run_callbacks() {\n    try {\n      root._bokeh_onload_callbacks.forEach(function(callback) { callback() });\n    }\n    finally {\n      delete root._bokeh_onload_callbacks\n    }\n    console.info(\"Bokeh: all callbacks have finished\");\n  }\n\n  function load_libs(js_urls, callback) {\n    root._bokeh_onload_callbacks.push(callback);\n    if (root._bokeh_is_loading > 0) {\n      console.log(\"Bokeh: BokehJS is being loaded, scheduling callback at\", now());\n      return null;\n    }\n    if (js_urls == null || js_urls.length === 0) {\n      run_callbacks();\n      return null;\n    }\n    console.log(\"Bokeh: BokehJS not loaded, scheduling load and callback at\", now());\n    root._bokeh_is_loading = js_urls.length;\n    for (var i = 0; i < js_urls.length; i++) {\n      var url = js_urls[i];\n      var s = document.createElement('script');\n      s.src = url;\n      s.async = false;\n      s.onreadystatechange = s.onload = function() {\n        root._bokeh_is_loading--;\n        if (root._bokeh_is_loading === 0) {\n          console.log(\"Bokeh: all BokehJS libraries loaded\");\n          run_callbacks()\n        }\n      };\n      s.onerror = function() {\n        console.warn(\"failed to load library \" + url);\n      };\n      console.log(\"Bokeh: injecting script tag for BokehJS library: \", url);\n      document.getElementsByTagName(\"head\")[0].appendChild(s);\n    }\n  };var element = document.getElementById(\"305c0ed0-567f-42e4-ab9b-b5114cb610bb\");\n  if (element == null) {\n    console.log(\"Bokeh: ERROR: autoload.js configured with elementid '305c0ed0-567f-42e4-ab9b-b5114cb610bb' but no matching script tag was found. \")\n    return false;\n  }\n\n  var js_urls = [\"https://cdn.pydata.org/bokeh/release/bokeh-0.12.16.min.js\", \"https://cdn.pydata.org/bokeh/release/bokeh-widgets-0.12.16.min.js\", \"https://cdn.pydata.org/bokeh/release/bokeh-tables-0.12.16.min.js\", \"https://cdn.pydata.org/bokeh/release/bokeh-gl-0.12.16.min.js\"];\n\n  var inline_js = [\n    function(Bokeh) {\n      Bokeh.set_log_level(\"info\");\n    },\n    \n    function(Bokeh) {\n      \n    },\n    function(Bokeh) {\n      console.log(\"Bokeh: injecting CSS: https://cdn.pydata.org/bokeh/release/bokeh-0.12.16.min.css\");\n      Bokeh.embed.inject_css(\"https://cdn.pydata.org/bokeh/release/bokeh-0.12.16.min.css\");\n      console.log(\"Bokeh: injecting CSS: https://cdn.pydata.org/bokeh/release/bokeh-widgets-0.12.16.min.css\");\n      Bokeh.embed.inject_css(\"https://cdn.pydata.org/bokeh/release/bokeh-widgets-0.12.16.min.css\");\n      console.log(\"Bokeh: injecting CSS: https://cdn.pydata.org/bokeh/release/bokeh-tables-0.12.16.min.css\");\n      Bokeh.embed.inject_css(\"https://cdn.pydata.org/bokeh/release/bokeh-tables-0.12.16.min.css\");\n    }\n  ];\n\n  function run_inline_js() {\n    \n    if ((root.Bokeh !== undefined) || (force === true)) {\n      for (var i = 0; i < inline_js.length; i++) {\n        inline_js[i].call(root, root.Bokeh);\n      }if (force === true) {\n        display_loaded();\n      }} else if (Date.now() < root._bokeh_timeout) {\n      setTimeout(run_inline_js, 100);\n    } else if (!root._bokeh_failed_load) {\n      console.log(\"Bokeh: BokehJS failed to load within specified timeout.\");\n      root._bokeh_failed_load = true;\n    } else if (force !== true) {\n      var cell = $(document.getElementById(\"305c0ed0-567f-42e4-ab9b-b5114cb610bb\")).parents('.cell').data().cell;\n      cell.output_area.append_execute_result(NB_LOAD_WARNING)\n    }\n\n  }\n\n  if (root._bokeh_is_loading === 0) {\n    console.log(\"Bokeh: BokehJS loaded, going straight to plotting\");\n    run_inline_js();\n  } else {\n    load_libs(js_urls, function() {\n      console.log(\"Bokeh: BokehJS plotting callback run at\", now());\n      run_inline_js();\n    });\n  }\n}(window));"
     },
     "metadata": {},
     "output_type": "display_data"
    }
   ],
   "source": [
    "from bokeh.plotting import figure,output_notebook, show\n",
    "from bokeh.palettes import Blues4\n",
    "from bokeh.models import ColumnDataSource,Slider\n",
    "import datetime\n",
    "from bokeh.io import push_notebook\n",
    "from dateutil import parser\n",
    "from ipywidgets import interact, widgets, fixed\n",
    "output_notebook()"
   ]
  },
  {
   "cell_type": "code",
   "execution_count": 3,
   "metadata": {},
   "outputs": [],
   "source": [
    "def detect(endpoint, subscription_key, request_data):\n",
    "    headers = {'Content-Type': 'application/json', 'Ocp-Apim-Subscription-Key': subscription_key}\n",
    "    response = requests.post(endpoint, data=json.dumps(request_data), headers=headers)\n",
    "    if response.status_code == 200:\n",
    "        return json.loads(response.content.decode(\"utf-8\"))\n",
    "    else:\n",
    "        print(response.status_code)\n",
    "        raise Exception(response.text)"
   ]
  },
  {
   "cell_type": "code",
   "execution_count": 4,
   "metadata": {},
   "outputs": [],
   "source": [
    "def build_figure(response):\n",
    "    values = response['Value']\n",
    "    label = response['Timestamp']\n",
    "    anomalies = []\n",
    "    anomaly_labels = []\n",
    "    index = 0\n",
    "    anomaly_indexes = []\n",
    "    p = figure(x_axis_type='datetime', title=\"Anomaly Finder Result\", width=800, height=600)\n",
    "    for anom in response['IsAnomaly']:\n",
    "        if anom == True and (values[index] > response.iloc[index]['ExpectedValues'] + response.iloc[index]['UpperMargins'] or \n",
    "                         values[index] < response.iloc[index]['ExpectedValues'] - response.iloc[index]['LowerMargins']):\n",
    "            anomalies.append(values[index])\n",
    "            anomaly_labels.append(label[index])\n",
    "            anomaly_indexes.append(index)\n",
    "        index = index+1\n",
    "    print(len(anomalies))\n",
    "    upperband = response['ExpectedValues'] + response['UpperMargins']\n",
    "    lowerband = response['ExpectedValues'] -response['LowerMargins']\n",
    "    band_x = np.append(label, label[::-1])\n",
    "    band_y = np.append(lowerband, upperband[::-1])\n",
    "    boundary = p.patch(band_x, band_y, color=Blues4[2], fill_alpha=0.5, line_width=1, legend='Boundary')\n",
    "    p.line(label, values, legend='Value', color=\"#2222aa\", line_width=1)\n",
    "    p.line(label, response['ExpectedValues'], legend='ExpectedValue',  line_width=1, line_dash=\"dotdash\", line_color='olivedrab')\n",
    "    anom_source = ColumnDataSource(dict(x=anomaly_labels, y=anomalies))\n",
    "    anoms = p.circle('x', 'y', size=5, color='tomato', source=anom_source)\n",
    "    p.legend.border_line_width = 1\n",
    "    p.legend.background_fill_alpha  = 0.1\n",
    "    return boundary, anoms, p"
   ]
  },
  {
   "cell_type": "code",
   "execution_count": 5,
   "metadata": {},
   "outputs": [],
   "source": [
    "def update(sensitivity, response, boundary, anoms):\n",
    "    values = response['Value']\n",
    "    label = response['Timestamp']\n",
    "    upperband = response['ExpectedValues'] + (100-sensitivity) * response['UpperMargins']\n",
    "    lowerband = response['ExpectedValues'] - (100-sensitivity) * response['LowerMargins']\n",
    "    boundary.data_source.data['y'] = np.append(lowerband, upperband[::-1])\n",
    "    anomalies = []\n",
    "    anomaly_labels = []\n",
    "    index = 0\n",
    "    for anom in response['IsAnomaly']:\n",
    "        if anom > 0 and (values[index] > response.iloc[index]['ExpectedValues'] + (100-sensitivity) * response.iloc[index]['UpperMargins'] or \n",
    "                         values[index] < response.iloc[index]['ExpectedValues'] - (100-sensitivity) * response.iloc[index]['LowerMargins']):\n",
    "            anomalies.append(values[index])\n",
    "            anomaly_labels.append(label[index])\n",
    "        index = index+1\n",
    "    anom_source_data = ColumnDataSource(dict(x=anomaly_labels, y=anomalies))\n",
    "    anoms.data_source.data = anom_source_data.data\n",
    "    try:\n",
    "        push_notebook()\n",
    "    except ValueError as e:\n",
    "        return"
   ]
  },
  {
   "cell_type": "markdown",
   "metadata": {},
   "source": [
    "### Find anomalies of sample timeseries in batch"
   ]
  },
  {
   "cell_type": "markdown",
   "metadata": {},
   "source": [
    "Anomaly Finder API returns default result on whether a data point is anomaly or not, and the upper and lower bound can be calculated from ExpectedValue and UpperMargin/LowerMargin. Those default values should work fine for most cases. However, some scenarios require different bounds than the default ones. The recommend practice is applying a sensitivity on the UpperMargin or LowerMargin to adjust the dynamic bounds. UpperBoundary equals to ExpectedValue + (100 - sensitivity)\\*UpperMargin, lowerBoundary equals to ExpectedValue - (100-sensitivity)\\*LowerMargin"
   ]
  },
  {
   "cell_type": "code",
   "execution_count": 6,
   "metadata": {},
   "outputs": [
    {
     "name": "stdout",
     "output_type": "stream",
     "text": [
      "23\n"
     ]
    },
    {
     "data": {
      "application/vnd.jupyter.widget-view+json": {
       "model_id": "64f1f153ec7043a99099af0f7fde15e4",
       "version_major": 2,
       "version_minor": 0
      },
      "text/plain": [
       "interactive(children=(IntSlider(value=99, description='sensitivity', max=99), Output()), _dom_classes=('widget…"
      ]
     },
     "metadata": {},
     "output_type": "display_data"
    },
    {
     "data": {
      "text/html": [
       "\n",
       "<div class=\"bk-root\">\n",
       "    <div class=\"bk-plotdiv\" id=\"1ecc41f5-e4fe-49f2-bd85-0475aa4f63f1\"></div>\n",
       "</div>"
      ]
     },
     "metadata": {},
     "output_type": "display_data"
    },
    {
     "data": {
      "application/javascript": [
       "(function(root) {\n",
       "  function embed_document(root) {\n",
       "    \n",
       "  var docs_json = {\"2e4cf340-fba2-49b6-a1c4-e03da91d68b6\":{\"roots\":{\"references\":[{\"attributes\":{},\"id\":\"48a03eec-1375-4c85-b2f7-a5fc49e11154\",\"type\":\"Selection\"},{\"attributes\":{\"callback\":null,\"data\":{\"x\":{\"__ndarray__\":\"AABAvO0ddkIAAAAiQB52QgAAwIeSHnZCAACA7eQedkIAAEBTNx92QgAAALmJH3ZCAADAHtwfdkIAAICELiB2QgAAQOqAIHZCAAAAUNMgdkIAAMC1JSF2QgAAgBt4IXZCAABAgcohdkIAAADnHCJ2QgAAwExvInZCAACAssEidkIAAEAYFCN2QgAAAH5mI3ZCAADA47gjdkIAAIBJCyR2QgAAQK9dJHZCAAAAFbAkdkIAAMB6AiV2QgAAgOBUJXZCAABARqcldkIAAACs+SV2QgAAwBFMJnZCAACAd54mdkIAAEDd8CZ2QgAAAENDJ3ZCAADAqJUndkIAAIAO6Cd2QgAAQHQ6KHZCAAAA2owodkIAAMA/3yh2QgAAgKUxKXZCAABAC4QpdkIAAABx1il2QgAAwNYoKnZCAACAPHsqdkIAAECizSp2QgAAAAggK3ZCAADAbXIrdkIAAIDTxCt2QgAAQDkXLHZCAAAAn2ksdkIAAMAEvCx2QgAAgGoOLXZCAABA0GAtdkIAAAA2sy12QgAAwJsFLnZCAACAAVgudkIAAEBnqi52QgAAAM38LnZCAADAMk8vdkIAAICYoS92QgAAQP7zL3ZCAAAAZEYwdkIAAMDJmDB2QgAAgC/rMHZCAABAlT0xdkIAAAD7jzF2QgAAwGDiMXZCAACAxjQydkIAAEAshzJ2QgAAAJLZMnZCAADA9yszdkIAAIBdfjN2QgAAQMPQM3ZCAAAAKSM0dkIAAMCOdTR2QgAAgPTHNHZCAABAWho1dkIAAADAbDV2QgAAwCW/NXZCAACAixE2dkIAAEDxYzZ2QgAAAFe2NnZCAADAvAg3dkIAAIAiWzd2QgAAQIitN3ZC\",\"dtype\":\"float64\",\"shape\":[81]},\"y\":{\"__ndarray__\":\"7RVHp+JFf0GETpJh1qF8Qc6vkOIL1HVBvppcqR3HeEEo4lzywEeAQTpCyeY3I4BBC5b6i1UKgEHPU0qDUhx/QZUZRpAqfHxB3R6V/GK5dUGwX/TJU7d4QcBzyI0iRYBBPKsdBHokgEFim5ksfQ+AQXwHmG94LX9BTynxE+WPfEHWc/1+k8h1QY1hdXUHwHhB9EY/8GZGgEHQK5MNSSOAQWsErNvRC4BB6OnmuPEif0EHaRxccIZ8QXl4eDSfwHVBdcPkbYa7eEHI6fu6LkWAQWpljAx5IoBBIfc0Wn8JgEEeAigVgxl/QeuO+v/6dHxBakSAsbSmdUEBURcD5Yx4QR3On+QzJIBBoP9cttgPgEHhJN84JAeAQTnR6A4KI39Bvfa5TfyPfEFI+Gp5qcd1QV01LAYPwHhBFHwuHZlGgEEO0c2ECSOAQSqu5G0SDIBB+gZkc64if0H/uT9mioZ8QbaVzh+owHVB1xadrz27eEFNa/7ZkkWAQRNveFjeIoBBmGa3h9ALgEGYEv0M8CJ/QQ72MaxvhnxBAUzefJ7AdUF+3Zquhbt4QVf6h6VLRYBBg3lJQbMigEFRtt8EtgqAQavWWFbpHX9BaXzsTSJwfEHaSjMMnZh1QTeT5Ww1f3hBK8M3wpsrgEHYFB113vB/QfT2mgnqvX9BTAu1zwjRfkGvvXU3WDx8Qd3bf71BfHVBlTWapON8eEFVcie1/yOAQeZ6EcvY/n9BFzBL15z5f0G41fGo2Cx/QfEmG/Ids3xB3aD3AaUPdkH6sUluLS95Qd2AlicEkoBBALsbj+SxgEHj6GWna92AQfyOZqIupYBBNQh13BMyf0EVG9A6DPB4QX9pO/q8bnxB\",\"dtype\":\"float64\",\"shape\":[81]}},\"selected\":{\"id\":\"b9ae3979-5806-41e9-bad7-696eddb670ad\",\"type\":\"Selection\"},\"selection_policy\":{\"id\":\"38786863-2a91-49a1-b8a8-c8adc4360577\",\"type\":\"UnionRenderers\"}},\"id\":\"f2999650-2770-414b-b3b3-de305267825e\",\"type\":\"ColumnDataSource\"},{\"attributes\":{\"line_alpha\":0.1,\"line_color\":\"#1f77b4\",\"line_dash\":[2,4,6,4],\"x\":{\"field\":\"x\"},\"y\":{\"field\":\"y\"}},\"id\":\"765f3b17-6708-4198-8901-649937052dcb\",\"type\":\"Line\"},{\"attributes\":{\"line_color\":\"olivedrab\",\"line_dash\":[2,4,6,4],\"x\":{\"field\":\"x\"},\"y\":{\"field\":\"y\"}},\"id\":\"9e40ef88-a497-4821-bdac-c8b945e4f283\",\"type\":\"Line\"},{\"attributes\":{},\"id\":\"33ea7aee-6d41-4bc8-a1a6-3a21eae0ac18\",\"type\":\"Selection\"},{\"attributes\":{\"source\":{\"id\":\"f2999650-2770-414b-b3b3-de305267825e\",\"type\":\"ColumnDataSource\"}},\"id\":\"731cceb7-6023-4510-972c-0bc556e92e9b\",\"type\":\"CDSView\"},{\"attributes\":{},\"id\":\"9540ceaf-b5c1-47d7-b63a-71dbd5cfc5e2\",\"type\":\"ResetTool\"},{\"attributes\":{\"data_source\":{\"id\":\"f2999650-2770-414b-b3b3-de305267825e\",\"type\":\"ColumnDataSource\"},\"glyph\":{\"id\":\"9e40ef88-a497-4821-bdac-c8b945e4f283\",\"type\":\"Line\"},\"hover_glyph\":null,\"muted_glyph\":null,\"nonselection_glyph\":{\"id\":\"765f3b17-6708-4198-8901-649937052dcb\",\"type\":\"Line\"},\"selection_glyph\":null,\"view\":{\"id\":\"731cceb7-6023-4510-972c-0bc556e92e9b\",\"type\":\"CDSView\"}},\"id\":\"2b17e5be-509b-45e9-a9dd-5c46565a9401\",\"type\":\"GlyphRenderer\"},{\"attributes\":{\"callback\":null,\"data\":{\"x\":{\"__ndarray__\":\"AABAvO0ddkIAAAAiQB52QgAAwIeSHnZCAACA7eQedkIAAEBTNx92QgAAALmJH3ZCAADAHtwfdkIAAICELiB2QgAAQOqAIHZCAAAAUNMgdkIAAMC1JSF2QgAAgBt4IXZCAABAgcohdkIAAADnHCJ2QgAAwExvInZCAACAssEidkIAAEAYFCN2QgAAAH5mI3ZCAADA47gjdkIAAIBJCyR2QgAAQK9dJHZCAAAAFbAkdkIAAMB6AiV2QgAAgOBUJXZCAABARqcldkIAAACs+SV2QgAAwBFMJnZCAACAd54mdkIAAEDd8CZ2QgAAAENDJ3ZCAADAqJUndkIAAIAO6Cd2QgAAQHQ6KHZCAAAA2owodkIAAMA/3yh2QgAAgKUxKXZCAABAC4QpdkIAAABx1il2QgAAwNYoKnZCAACAPHsqdkIAAECizSp2QgAAAAggK3ZCAADAbXIrdkIAAIDTxCt2QgAAQDkXLHZCAAAAn2ksdkIAAMAEvCx2QgAAgGoOLXZCAABA0GAtdkIAAAA2sy12QgAAwJsFLnZCAACAAVgudkIAAEBnqi52QgAAAM38LnZCAADAMk8vdkIAAICYoS92QgAAQP7zL3ZCAAAAZEYwdkIAAMDJmDB2QgAAgC/rMHZCAABAlT0xdkIAAAD7jzF2QgAAwGDiMXZCAACAxjQydkIAAEAshzJ2QgAAAJLZMnZCAADA9yszdkIAAIBdfjN2QgAAQMPQM3ZCAAAAKSM0dkIAAMCOdTR2QgAAgPTHNHZCAABAWho1dkIAAADAbDV2QgAAwCW/NXZCAACAixE2dkIAAEDxYzZ2QgAAAFe2NnZCAADAvAg3dkIAAIAiWzd2QgAAQIitN3ZCAABAiK03dkIAAIAiWzd2QgAAwLwIN3ZCAAAAV7Y2dkIAAEDxYzZ2QgAAgIsRNnZCAADAJb81dkIAAADAbDV2QgAAQFoaNXZCAACA9Mc0dkIAAMCOdTR2QgAAACkjNHZCAABAw9AzdkIAAIBdfjN2QgAAwPcrM3ZCAAAAktkydkIAAEAshzJ2QgAAgMY0MnZCAADAYOIxdkIAAAD7jzF2QgAAQJU9MXZCAACAL+swdkIAAMDJmDB2QgAAAGRGMHZCAABA/vMvdkIAAICYoS92QgAAwDJPL3ZCAAAAzfwudkIAAEBnqi52QgAAgAFYLnZCAADAmwUudkIAAAA2sy12QgAAQNBgLXZCAACAag4tdkIAAMAEvCx2QgAAAJ9pLHZCAABAORcsdkIAAIDTxCt2QgAAwG1yK3ZCAAAACCArdkIAAECizSp2QgAAgDx7KnZCAADA1igqdkIAAABx1il2QgAAQAuEKXZCAACApTEpdkIAAMA/3yh2QgAAANqMKHZCAABAdDoodkIAAIAO6Cd2QgAAwKiVJ3ZCAAAAQ0MndkIAAEDd8CZ2QgAAgHeeJnZCAADAEUwmdkIAAACs+SV2QgAAQEanJXZCAACA4FQldkIAAMB6AiV2QgAAABWwJHZCAABAr10kdkIAAIBJCyR2QgAAwOO4I3ZCAAAAfmYjdkIAAEAYFCN2QgAAgLLBInZCAADATG8idkIAAADnHCJ2QgAAQIHKIXZCAACAG3ghdkIAAMC1JSF2QgAAAFDTIHZCAABA6oAgdkIAAICELiB2QgAAwB7cH3ZCAAAAuYkfdkIAAEBTNx92QgAAgO3kHnZCAADAh5IedkIAAAAiQB52QgAAQLztHXZC\",\"dtype\":\"float64\",\"shape\":[162]},\"y\":{\"__ndarray__\":\"FzZlnpI1f0FhrLSgEHB8QQAAALADyHVBAAAAACS/eEEAAAC4YEeAQXSEkkUXI4BBAAAA6CgKgEGep5Sm+xp/QSozjOAleXxBAAAAcH6hdUH/tCELeHh4QQAAALixN4BBeFY7CIQfgEHENjP53wWAQVmQT094/H5BAAAAMO2OfEEAAACwA8h1QQAAAAAkv3hB6I1+KG1FgEGgVyaTOSOAQQAAAOgoCoBBAAAAYKkdf0EAAABAL398QfLw8Lg6uXVB6obJ2+i3eEGQ0/e9/EKAQdTKGJGZIYBBQu5pzNUIgEE8BFDKXBV/QdYd9b/GanxBAAAAQC+gdUGfLXcRQFJ4QR+F6wdtCYBBFK0/xuLff0HC84jiHsV/Qeahe6Qf1H5BEjtdWpxKfEGQ8NVCT8d1QQAAAAAkv3hBKPhcgtFFgEEcopuBuiKAQQAAAOgoCoBBAAAAYKkdf0EAAABAL398QWwrnY9MuXVBri06X1e3eEGa1vz7xEOAQSbe8ChkIoBBAAAA6CgKgEEAAABgqR1/QQAAAEAvf3xBApi8STm5dUH8ujVd57d4Qa70D5M2Q4BBBvOS+g0igEEAAADoKAqAQQAAAGCpHX9B0vjYWxVhfEF4iN506mN1QezDaE7SAXhBVoZvXDYCgEE9Ctc/6t9/QV15YmZucH9B1paJJQdBfkFjXJ4BOrR7QffB1rqPcHVBfjqPDfQGeEEfhetfAiOAQQkA+mWu/X9BoSZuebuzf0HFJ2/O2d5+QeOaKVNuKnxB997bWtXZdUGyYg8A0bV4QdmGGCcEkoBBH4XrHwiOgEHyT4cptbeAQdT4hmcDe4BBViirGVWWfkFnQHc1DPB4Qb8ewxriKHxBP7Sz2Ze0fEHD9ShADPB4QRToPp/SzX9BJCVG3VnPgEHUgUQlIgOBQeHwS/7A1YBB4XoUKASSgEFCAYTciah5QcNiE6l0RXZB/7IMkc07fUGrg3SD13p/QccclBq/H4BB4XoUmAEAgEGLX2MK/SSAQawwpTvT8nhBw/UowPOHdUH7Hk1tdsR8QcJ/4HkKYX9BRbpp1rIFgEG5jzFV6QCAQQAAACgBVYBBgmJii5j8eEE8DYijT811QQAAAEAvf3xBVq2xTCkef0GibL8hQwuAQQAAAIhYI4BBAAAAuGBHgEEAAAAAJL94QQAAALADyHVBHOxjGLCNfEEwJfq5Nih/QTDNbid4DYBBAAAAiFgjgEEAAAC4YEeAQQAAAAAkv3hBAAAAsAPIdUH+c3+M5Y18QfQNyIazJ39BVFzJ8/sNgEEAAACIWCOAQQAAALhgR4BBumpYDPrAeEEAAACwA8h1QWiyFkFc1XxBjABWefRxf0Hhz3kAuSuAQbYomgnAL4BBGxdUwfo+gEFjdLf0icd4QdSIACM6rXVBAAAAQC9/fEEAAABgqR1/QQAAAOgoCoBBAAAAiFgjgEEAAAC4YEeAQQAAAAAkv3hBAAAAsAPIdUEO0jh4sY18QdDTzRE6KH9B1ghYz3oNgEEAAACIWCOAQQAAALhgR4BBGsPq6urAeEGs5/pNI8l1QZ5S4vfckHxBn37gj3hef0EAAABgGhmAQQAAAABwKYBBgOeQY5NSgEFhCseIL/Z4Qbo9KolH0XVBAAAAQC9/fEEAAABgqR1/QRYs9S+CCoBBAAAAiFgjgEFQxLksIUiAQXw1uVIXz3hBnF8hFRTgdUGn8G8inNN8QcP1KLAyVn9B\",\"dtype\":\"float64\",\"shape\":[162]}},\"selected\":{\"id\":\"33ea7aee-6d41-4bc8-a1a6-3a21eae0ac18\",\"type\":\"Selection\"},\"selection_policy\":{\"id\":\"10413ac6-a1f4-45a4-b69c-69be29ecff6e\",\"type\":\"UnionRenderers\"}},\"id\":\"ff81cc74-1e3a-4f7e-bd1c-8360500f227d\",\"type\":\"ColumnDataSource\"},{\"attributes\":{\"callback\":null,\"data\":{\"x\":[1519948800000.0,1520726400000.0,1521072000000.0,1522540800000.0,1522713600000.0,1522800000000.0,1522886400000.0,1522972800000.0,1524873600000.0,1524960000000.0,1525219200000.0,1525305600000.0,1525392000000.0,1525564800000.0,1525824000000.0,1525910400000.0,1525996800000.0,1526083200000.0,1526169600000.0,1526428800000.0,1526515200000.0,1526601600000.0,1526774400000.0],\"y\":[29615278,24629393,33093515,25262514,34468310,34212281,38144434,34212281,26530491,35445003,30744783,25825128,21244209,31957221,32383350,29494850,22815534,25557267,34858252,34132534,30762236,22504059,35250105]},\"selected\":{\"id\":\"ed444c1e-91db-43e2-894a-5642eccb6702\",\"type\":\"Selection\"},\"selection_policy\":{\"id\":\"2451adbf-c367-4327-b351-a97cae98e3d3\",\"type\":\"UnionRenderers\"}},\"id\":\"9f2c0463-4144-40b4-ad67-8a0a65dc48a0\",\"type\":\"ColumnDataSource\"},{\"attributes\":{},\"id\":\"45216679-cd7f-4c99-8a94-15e785f34b44\",\"type\":\"HelpTool\"},{\"attributes\":{},\"id\":\"9c1102da-e387-4d85-85c6-1d2ee9c89438\",\"type\":\"UnionRenderers\"},{\"attributes\":{\"label\":{\"value\":\"ExpectedValue\"},\"renderers\":[{\"id\":\"2b17e5be-509b-45e9-a9dd-5c46565a9401\",\"type\":\"GlyphRenderer\"}]},\"id\":\"b74a4a10-d6ae-48d8-ba5b-2080e8ead5e4\",\"type\":\"LegendItem\"},{\"attributes\":{\"fill_color\":{\"value\":\"tomato\"},\"line_color\":{\"value\":\"tomato\"},\"size\":{\"units\":\"screen\",\"value\":5},\"x\":{\"field\":\"x\"},\"y\":{\"field\":\"y\"}},\"id\":\"1e5e3bc9-1dba-4fd9-b590-8c4252ae5a6a\",\"type\":\"Circle\"},{\"attributes\":{},\"id\":\"2451adbf-c367-4327-b351-a97cae98e3d3\",\"type\":\"UnionRenderers\"},{\"attributes\":{\"source\":{\"id\":\"9f2c0463-4144-40b4-ad67-8a0a65dc48a0\",\"type\":\"ColumnDataSource\"}},\"id\":\"66f3d556-1c2b-4a00-9a48-34af1ab5489f\",\"type\":\"CDSView\"},{\"attributes\":{\"data_source\":{\"id\":\"9f2c0463-4144-40b4-ad67-8a0a65dc48a0\",\"type\":\"ColumnDataSource\"},\"glyph\":{\"id\":\"1e5e3bc9-1dba-4fd9-b590-8c4252ae5a6a\",\"type\":\"Circle\"},\"hover_glyph\":null,\"muted_glyph\":null,\"nonselection_glyph\":{\"id\":\"cafa8092-9475-4485-9f7f-3027985879c9\",\"type\":\"Circle\"},\"selection_glyph\":null,\"view\":{\"id\":\"66f3d556-1c2b-4a00-9a48-34af1ab5489f\",\"type\":\"CDSView\"}},\"id\":\"c26e6dcd-6f5c-49b4-8c6d-c3d3781fe99b\",\"type\":\"GlyphRenderer\"},{\"attributes\":{\"fill_alpha\":{\"value\":0.1},\"fill_color\":{\"value\":\"#1f77b4\"},\"line_alpha\":{\"value\":0.1},\"line_color\":{\"value\":\"#1f77b4\"},\"size\":{\"units\":\"screen\",\"value\":5},\"x\":{\"field\":\"x\"},\"y\":{\"field\":\"y\"}},\"id\":\"cafa8092-9475-4485-9f7f-3027985879c9\",\"type\":\"Circle\"},{\"attributes\":{\"mantissas\":[1,2,5],\"max_interval\":500.0,\"num_minor_ticks\":0},\"id\":\"85cf9d33-2311-4d97-a4b9-5574f0c4c6a6\",\"type\":\"AdaptiveTicker\"},{\"attributes\":{\"base\":60,\"mantissas\":[1,2,5,10,15,20,30],\"max_interval\":1800000.0,\"min_interval\":1000.0,\"num_minor_ticks\":0},\"id\":\"3db26e93-479a-45dc-b835-0db96eed9916\",\"type\":\"AdaptiveTicker\"},{\"attributes\":{\"source\":{\"id\":\"ff81cc74-1e3a-4f7e-bd1c-8360500f227d\",\"type\":\"ColumnDataSource\"}},\"id\":\"a011b74f-3c25-4ebf-8d4d-8a8b65d1949b\",\"type\":\"CDSView\"},{\"attributes\":{\"data_source\":{\"id\":\"ff81cc74-1e3a-4f7e-bd1c-8360500f227d\",\"type\":\"ColumnDataSource\"},\"glyph\":{\"id\":\"e4602a0d-4c0e-4806-90c3-e6954f8148dc\",\"type\":\"Patch\"},\"hover_glyph\":null,\"muted_glyph\":null,\"nonselection_glyph\":{\"id\":\"011c7338-8aa4-4900-8c85-52abb7f52a17\",\"type\":\"Patch\"},\"selection_glyph\":null,\"view\":{\"id\":\"a011b74f-3c25-4ebf-8d4d-8a8b65d1949b\",\"type\":\"CDSView\"}},\"id\":\"2084a0ec-4e15-4a54-9a70-d4309e9ecb20\",\"type\":\"GlyphRenderer\"},{\"attributes\":{\"source\":{\"id\":\"717c9f69-9bc2-4d0a-ad0f-d76c4136cb7e\",\"type\":\"ColumnDataSource\"}},\"id\":\"6a2baea5-def9-419d-82b1-320c3fde40af\",\"type\":\"CDSView\"},{\"attributes\":{\"months\":[0,4,8]},\"id\":\"b9bc5af9-1cb4-474f-91db-e7e90c03760c\",\"type\":\"MonthsTicker\"},{\"attributes\":{\"days\":[1,15]},\"id\":\"80eae76f-a33a-416a-8d31-5f91a01f7e1c\",\"type\":\"DaysTicker\"},{\"attributes\":{\"months\":[0,6]},\"id\":\"a7090360-79c5-4f29-b116-7cb138bb0400\",\"type\":\"MonthsTicker\"},{\"attributes\":{},\"id\":\"d4114b4f-ba1f-4490-88e6-32a5c6612297\",\"type\":\"YearsTicker\"},{\"attributes\":{},\"id\":\"c230577b-d42f-4962-a91e-7e7ff3deb70e\",\"type\":\"DatetimeTickFormatter\"},{\"attributes\":{\"active_drag\":\"auto\",\"active_inspect\":\"auto\",\"active_scroll\":\"auto\",\"active_tap\":\"auto\",\"tools\":[{\"id\":\"aaac8eb9-0e49-42cc-ada9-7969a90a7599\",\"type\":\"PanTool\"},{\"id\":\"d2f48e8d-bf0b-4a5b-bbd4-50f2b2d9f28f\",\"type\":\"WheelZoomTool\"},{\"id\":\"b392237f-f0b3-485d-985f-a24080603fb8\",\"type\":\"BoxZoomTool\"},{\"id\":\"b790b6ef-8991-4def-8887-951f5b5020b2\",\"type\":\"SaveTool\"},{\"id\":\"9540ceaf-b5c1-47d7-b63a-71dbd5cfc5e2\",\"type\":\"ResetTool\"},{\"id\":\"45216679-cd7f-4c99-8a94-15e785f34b44\",\"type\":\"HelpTool\"}]},\"id\":\"94af9f4d-8e02-4911-a0dc-973ae3799e37\",\"type\":\"Toolbar\"},{\"attributes\":{\"bottom_units\":\"screen\",\"fill_alpha\":{\"value\":0.5},\"fill_color\":{\"value\":\"lightgrey\"},\"left_units\":\"screen\",\"level\":\"overlay\",\"line_alpha\":{\"value\":1.0},\"line_color\":{\"value\":\"black\"},\"line_dash\":[4,4],\"line_width\":{\"value\":2},\"plot\":null,\"render_mode\":\"css\",\"right_units\":\"screen\",\"top_units\":\"screen\"},\"id\":\"c3a53b25-189f-4bfa-a0d8-f0a1987e4a4c\",\"type\":\"BoxAnnotation\"},{\"attributes\":{\"dimension\":1,\"plot\":{\"id\":\"596cf61a-51bd-4d01-aba0-801e243c8f27\",\"subtype\":\"Figure\",\"type\":\"Plot\"},\"ticker\":{\"id\":\"dc4d0a34-4a22-479f-9de1-9b96b04eb1ba\",\"type\":\"BasicTicker\"}},\"id\":\"a4e6864e-04a3-4b09-a558-33b4406fb173\",\"type\":\"Grid\"},{\"attributes\":{\"days\":[1,4,7,10,13,16,19,22,25,28]},\"id\":\"334803d0-41ea-46d0-94ff-b7f79c41c1b8\",\"type\":\"DaysTicker\"},{\"attributes\":{\"base\":24,\"mantissas\":[1,2,4,6,8,12],\"max_interval\":43200000.0,\"min_interval\":3600000.0,\"num_minor_ticks\":0},\"id\":\"5f2aa478-4c74-40b2-8e4e-3c4eebb831a8\",\"type\":\"AdaptiveTicker\"},{\"attributes\":{\"formatter\":{\"id\":\"7b982e93-3a8e-4bc3-a268-e3b2c479f0a8\",\"type\":\"BasicTickFormatter\"},\"plot\":{\"id\":\"596cf61a-51bd-4d01-aba0-801e243c8f27\",\"subtype\":\"Figure\",\"type\":\"Plot\"},\"ticker\":{\"id\":\"dc4d0a34-4a22-479f-9de1-9b96b04eb1ba\",\"type\":\"BasicTicker\"}},\"id\":\"d81cad6a-adf5-4ac9-bd1f-1a39064ec711\",\"type\":\"LinearAxis\"},{\"attributes\":{},\"id\":\"dc4d0a34-4a22-479f-9de1-9b96b04eb1ba\",\"type\":\"BasicTicker\"},{\"attributes\":{\"label\":{\"value\":\"Boundary\"},\"renderers\":[{\"id\":\"2084a0ec-4e15-4a54-9a70-d4309e9ecb20\",\"type\":\"GlyphRenderer\"}]},\"id\":\"08be91e1-0a10-4019-a574-41778a54f3b4\",\"type\":\"LegendItem\"},{\"attributes\":{\"fill_alpha\":0.5,\"fill_color\":\"#bdd7e7\",\"line_color\":\"#bdd7e7\",\"x\":{\"field\":\"x\"},\"y\":{\"field\":\"y\"}},\"id\":\"e4602a0d-4c0e-4806-90c3-e6954f8148dc\",\"type\":\"Patch\"},{\"attributes\":{},\"id\":\"aaac8eb9-0e49-42cc-ada9-7969a90a7599\",\"type\":\"PanTool\"},{\"attributes\":{\"callback\":null,\"data\":{\"x\":{\"__ndarray__\":\"AABAvO0ddkIAAAAiQB52QgAAwIeSHnZCAACA7eQedkIAAEBTNx92QgAAALmJH3ZCAADAHtwfdkIAAICELiB2QgAAQOqAIHZCAAAAUNMgdkIAAMC1JSF2QgAAgBt4IXZCAABAgcohdkIAAADnHCJ2QgAAwExvInZCAACAssEidkIAAEAYFCN2QgAAAH5mI3ZCAADA47gjdkIAAIBJCyR2QgAAQK9dJHZCAAAAFbAkdkIAAMB6AiV2QgAAgOBUJXZCAABARqcldkIAAACs+SV2QgAAwBFMJnZCAACAd54mdkIAAEDd8CZ2QgAAAENDJ3ZCAADAqJUndkIAAIAO6Cd2QgAAQHQ6KHZCAAAA2owodkIAAMA/3yh2QgAAgKUxKXZCAABAC4QpdkIAAABx1il2QgAAwNYoKnZCAACAPHsqdkIAAECizSp2QgAAAAggK3ZCAADAbXIrdkIAAIDTxCt2QgAAQDkXLHZCAAAAn2ksdkIAAMAEvCx2QgAAgGoOLXZCAABA0GAtdkIAAAA2sy12QgAAwJsFLnZCAACAAVgudkIAAEBnqi52QgAAAM38LnZCAADAMk8vdkIAAICYoS92QgAAQP7zL3ZCAAAAZEYwdkIAAMDJmDB2QgAAgC/rMHZCAABAlT0xdkIAAAD7jzF2QgAAwGDiMXZCAACAxjQydkIAAEAshzJ2QgAAAJLZMnZCAADA9yszdkIAAIBdfjN2QgAAQMPQM3ZCAAAAKSM0dkIAAMCOdTR2QgAAgPTHNHZCAABAWho1dkIAAADAbDV2QgAAwCW/NXZCAACAixE2dkIAAEDxYzZ2QgAAAFe2NnZCAADAvAg3dkIAAIAiWzd2QgAAQIitN3ZC\",\"dtype\":\"float64\",\"shape\":[81]},\"y\":[32858923,29615278,22839355,25948736,34139159,33843985,33637661,32627350,29881076,22681575,24629393,34010679,33893888,33760076,33093515,29945555,22839355,25948736,34139159,33843985,33637661,32627350,29881076,22839355,25948736,34139159,33843985,33637661,32627350,29881076,22676212,25262514,33631649,34468310,34212281,38144434,34212281,22839355,25948736,34139159,33843985,33637661,32627350,29881076,22839355,25948736,34139159,33843985,33637661,32627350,29881076,22839355,25948736,34139159,33843985,33637661,32627350,29881076,26530491,35445003,34250789,33423012,30744783,25825128,21244209,22576956,31957221,33841228,33554483,32383350,29494850,22815534,25557267,34858252,34750597,34717956,34132534,30762236,22504059,26149060,35250105]},\"selected\":{\"id\":\"48a03eec-1375-4c85-b2f7-a5fc49e11154\",\"type\":\"Selection\"},\"selection_policy\":{\"id\":\"9c1102da-e387-4d85-85c6-1d2ee9c89438\",\"type\":\"UnionRenderers\"}},\"id\":\"717c9f69-9bc2-4d0a-ad0f-d76c4136cb7e\",\"type\":\"ColumnDataSource\"},{\"attributes\":{},\"id\":\"ed444c1e-91db-43e2-894a-5642eccb6702\",\"type\":\"Selection\"},{\"attributes\":{\"overlay\":{\"id\":\"c3a53b25-189f-4bfa-a0d8-f0a1987e4a4c\",\"type\":\"BoxAnnotation\"}},\"id\":\"b392237f-f0b3-485d-985f-a24080603fb8\",\"type\":\"BoxZoomTool\"},{\"attributes\":{},\"id\":\"7b982e93-3a8e-4bc3-a268-e3b2c479f0a8\",\"type\":\"BasicTickFormatter\"},{\"attributes\":{},\"id\":\"1f98817a-f231-45ab-a5a3-8880e2465bec\",\"type\":\"LinearScale\"},{\"attributes\":{},\"id\":\"b9ae3979-5806-41e9-bad7-696eddb670ad\",\"type\":\"Selection\"},{\"attributes\":{\"callback\":null},\"id\":\"77b86ed9-080d-4488-92e6-71b05ce1e220\",\"type\":\"DataRange1d\"},{\"attributes\":{},\"id\":\"38786863-2a91-49a1-b8a8-c8adc4360577\",\"type\":\"UnionRenderers\"},{\"attributes\":{\"background_fill_alpha\":{\"value\":0.1},\"items\":[{\"id\":\"08be91e1-0a10-4019-a574-41778a54f3b4\",\"type\":\"LegendItem\"},{\"id\":\"803da5d7-fb9a-4665-8520-765960d80da0\",\"type\":\"LegendItem\"},{\"id\":\"b74a4a10-d6ae-48d8-ba5b-2080e8ead5e4\",\"type\":\"LegendItem\"}],\"plot\":{\"id\":\"596cf61a-51bd-4d01-aba0-801e243c8f27\",\"subtype\":\"Figure\",\"type\":\"Plot\"}},\"id\":\"0a55406d-ac59-4538-beeb-2452e55e5693\",\"type\":\"Legend\"},{\"attributes\":{\"num_minor_ticks\":5,\"tickers\":[{\"id\":\"85cf9d33-2311-4d97-a4b9-5574f0c4c6a6\",\"type\":\"AdaptiveTicker\"},{\"id\":\"3db26e93-479a-45dc-b835-0db96eed9916\",\"type\":\"AdaptiveTicker\"},{\"id\":\"5f2aa478-4c74-40b2-8e4e-3c4eebb831a8\",\"type\":\"AdaptiveTicker\"},{\"id\":\"1dc3de61-8f89-4b77-9e2d-d43327f46856\",\"type\":\"DaysTicker\"},{\"id\":\"334803d0-41ea-46d0-94ff-b7f79c41c1b8\",\"type\":\"DaysTicker\"},{\"id\":\"ae6e275a-f0b0-4a20-ad9c-77595056bdc9\",\"type\":\"DaysTicker\"},{\"id\":\"80eae76f-a33a-416a-8d31-5f91a01f7e1c\",\"type\":\"DaysTicker\"},{\"id\":\"f727c96a-d9ef-477d-80c1-9d2252fbeff1\",\"type\":\"MonthsTicker\"},{\"id\":\"00c80945-6bd1-46e6-9efd-34065d2e7551\",\"type\":\"MonthsTicker\"},{\"id\":\"b9bc5af9-1cb4-474f-91db-e7e90c03760c\",\"type\":\"MonthsTicker\"},{\"id\":\"a7090360-79c5-4f29-b116-7cb138bb0400\",\"type\":\"MonthsTicker\"},{\"id\":\"d4114b4f-ba1f-4490-88e6-32a5c6612297\",\"type\":\"YearsTicker\"}]},\"id\":\"d0b5c0a7-068d-4ba1-add0-4cc9efe624bf\",\"type\":\"DatetimeTicker\"},{\"attributes\":{\"days\":[1,2,3,4,5,6,7,8,9,10,11,12,13,14,15,16,17,18,19,20,21,22,23,24,25,26,27,28,29,30,31]},\"id\":\"1dc3de61-8f89-4b77-9e2d-d43327f46856\",\"type\":\"DaysTicker\"},{\"attributes\":{\"plot\":{\"id\":\"596cf61a-51bd-4d01-aba0-801e243c8f27\",\"subtype\":\"Figure\",\"type\":\"Plot\"},\"ticker\":{\"id\":\"d0b5c0a7-068d-4ba1-add0-4cc9efe624bf\",\"type\":\"DatetimeTicker\"}},\"id\":\"62fdbccc-d8f2-4d2f-aad6-ab742fb1d0a7\",\"type\":\"Grid\"},{\"attributes\":{},\"id\":\"10413ac6-a1f4-45a4-b69c-69be29ecff6e\",\"type\":\"UnionRenderers\"},{\"attributes\":{\"formatter\":{\"id\":\"c230577b-d42f-4962-a91e-7e7ff3deb70e\",\"type\":\"DatetimeTickFormatter\"},\"plot\":{\"id\":\"596cf61a-51bd-4d01-aba0-801e243c8f27\",\"subtype\":\"Figure\",\"type\":\"Plot\"},\"ticker\":{\"id\":\"d0b5c0a7-068d-4ba1-add0-4cc9efe624bf\",\"type\":\"DatetimeTicker\"}},\"id\":\"1806c1a8-4c92-4a8d-9eaf-9dd47edf54a4\",\"type\":\"DatetimeAxis\"},{\"attributes\":{\"months\":[0,1,2,3,4,5,6,7,8,9,10,11]},\"id\":\"f727c96a-d9ef-477d-80c1-9d2252fbeff1\",\"type\":\"MonthsTicker\"},{\"attributes\":{\"callback\":null},\"id\":\"46a559ac-9823-4131-8f92-715415d94ede\",\"type\":\"DataRange1d\"},{\"attributes\":{\"days\":[1,8,15,22]},\"id\":\"ae6e275a-f0b0-4a20-ad9c-77595056bdc9\",\"type\":\"DaysTicker\"},{\"attributes\":{\"months\":[0,2,4,6,8,10]},\"id\":\"00c80945-6bd1-46e6-9efd-34065d2e7551\",\"type\":\"MonthsTicker\"},{\"attributes\":{},\"id\":\"99caca95-bbf9-49d2-be41-97222e25dec9\",\"type\":\"LinearScale\"},{\"attributes\":{\"fill_alpha\":0.1,\"fill_color\":\"#1f77b4\",\"line_alpha\":0.1,\"line_color\":\"#1f77b4\",\"x\":{\"field\":\"x\"},\"y\":{\"field\":\"y\"}},\"id\":\"011c7338-8aa4-4900-8c85-52abb7f52a17\",\"type\":\"Patch\"},{\"attributes\":{\"plot\":null,\"text\":\"Anomaly Finder Result\"},\"id\":\"7447aaef-bf19-4ee4-8a84-7afaec109be5\",\"type\":\"Title\"},{\"attributes\":{\"data_source\":{\"id\":\"717c9f69-9bc2-4d0a-ad0f-d76c4136cb7e\",\"type\":\"ColumnDataSource\"},\"glyph\":{\"id\":\"fed47720-f056-4d2b-8f47-b9cc624ab193\",\"type\":\"Line\"},\"hover_glyph\":null,\"muted_glyph\":null,\"nonselection_glyph\":{\"id\":\"a4619704-cb4f-4942-898f-c018561e8f4c\",\"type\":\"Line\"},\"selection_glyph\":null,\"view\":{\"id\":\"6a2baea5-def9-419d-82b1-320c3fde40af\",\"type\":\"CDSView\"}},\"id\":\"e7d8b213-dc73-46ea-b713-70b484a30883\",\"type\":\"GlyphRenderer\"},{\"attributes\":{},\"id\":\"b790b6ef-8991-4def-8887-951f5b5020b2\",\"type\":\"SaveTool\"},{\"attributes\":{\"below\":[{\"id\":\"1806c1a8-4c92-4a8d-9eaf-9dd47edf54a4\",\"type\":\"DatetimeAxis\"}],\"left\":[{\"id\":\"d81cad6a-adf5-4ac9-bd1f-1a39064ec711\",\"type\":\"LinearAxis\"}],\"plot_width\":800,\"renderers\":[{\"id\":\"1806c1a8-4c92-4a8d-9eaf-9dd47edf54a4\",\"type\":\"DatetimeAxis\"},{\"id\":\"62fdbccc-d8f2-4d2f-aad6-ab742fb1d0a7\",\"type\":\"Grid\"},{\"id\":\"d81cad6a-adf5-4ac9-bd1f-1a39064ec711\",\"type\":\"LinearAxis\"},{\"id\":\"a4e6864e-04a3-4b09-a558-33b4406fb173\",\"type\":\"Grid\"},{\"id\":\"c3a53b25-189f-4bfa-a0d8-f0a1987e4a4c\",\"type\":\"BoxAnnotation\"},{\"id\":\"0a55406d-ac59-4538-beeb-2452e55e5693\",\"type\":\"Legend\"},{\"id\":\"2084a0ec-4e15-4a54-9a70-d4309e9ecb20\",\"type\":\"GlyphRenderer\"},{\"id\":\"e7d8b213-dc73-46ea-b713-70b484a30883\",\"type\":\"GlyphRenderer\"},{\"id\":\"2b17e5be-509b-45e9-a9dd-5c46565a9401\",\"type\":\"GlyphRenderer\"},{\"id\":\"c26e6dcd-6f5c-49b4-8c6d-c3d3781fe99b\",\"type\":\"GlyphRenderer\"}],\"title\":{\"id\":\"7447aaef-bf19-4ee4-8a84-7afaec109be5\",\"type\":\"Title\"},\"toolbar\":{\"id\":\"94af9f4d-8e02-4911-a0dc-973ae3799e37\",\"type\":\"Toolbar\"},\"x_range\":{\"id\":\"77b86ed9-080d-4488-92e6-71b05ce1e220\",\"type\":\"DataRange1d\"},\"x_scale\":{\"id\":\"1f98817a-f231-45ab-a5a3-8880e2465bec\",\"type\":\"LinearScale\"},\"y_range\":{\"id\":\"46a559ac-9823-4131-8f92-715415d94ede\",\"type\":\"DataRange1d\"},\"y_scale\":{\"id\":\"99caca95-bbf9-49d2-be41-97222e25dec9\",\"type\":\"LinearScale\"}},\"id\":\"596cf61a-51bd-4d01-aba0-801e243c8f27\",\"subtype\":\"Figure\",\"type\":\"Plot\"},{\"attributes\":{\"line_alpha\":0.1,\"line_color\":\"#1f77b4\",\"x\":{\"field\":\"x\"},\"y\":{\"field\":\"y\"}},\"id\":\"a4619704-cb4f-4942-898f-c018561e8f4c\",\"type\":\"Line\"},{\"attributes\":{},\"id\":\"d2f48e8d-bf0b-4a5b-bbd4-50f2b2d9f28f\",\"type\":\"WheelZoomTool\"},{\"attributes\":{\"line_color\":\"#2222aa\",\"x\":{\"field\":\"x\"},\"y\":{\"field\":\"y\"}},\"id\":\"fed47720-f056-4d2b-8f47-b9cc624ab193\",\"type\":\"Line\"},{\"attributes\":{\"label\":{\"value\":\"Value\"},\"renderers\":[{\"id\":\"e7d8b213-dc73-46ea-b713-70b484a30883\",\"type\":\"GlyphRenderer\"}]},\"id\":\"803da5d7-fb9a-4665-8520-765960d80da0\",\"type\":\"LegendItem\"}],\"root_ids\":[\"596cf61a-51bd-4d01-aba0-801e243c8f27\"]},\"title\":\"Bokeh Application\",\"version\":\"0.12.16\"}};\n",
       "  var render_items = [{\"docid\":\"2e4cf340-fba2-49b6-a1c4-e03da91d68b6\",\"elementid\":\"1ecc41f5-e4fe-49f2-bd85-0475aa4f63f1\",\"modelid\":\"596cf61a-51bd-4d01-aba0-801e243c8f27\",\"notebook_comms_target\":\"d3abf9a9-7cf0-4760-8b88-68132e4d52e2\"}];\n",
       "  root.Bokeh.embed.embed_items_notebook(docs_json, render_items);\n",
       "\n",
       "  }\n",
       "  if (root.Bokeh !== undefined) {\n",
       "    embed_document(root);\n",
       "  } else {\n",
       "    var attempts = 0;\n",
       "    var timer = setInterval(function(root) {\n",
       "      if (root.Bokeh !== undefined) {\n",
       "        embed_document(root);\n",
       "        clearInterval(timer);\n",
       "      }\n",
       "      attempts++;\n",
       "      if (attempts > 100) {\n",
       "        console.log(\"Bokeh: ERROR: Unable to run BokehJS code because BokehJS library is missing\")\n",
       "        clearInterval(timer);\n",
       "      }\n",
       "    }, 10, root)\n",
       "  }\n",
       "})(window);"
      ],
      "application/vnd.bokehjs_exec.v0+json": ""
     },
     "metadata": {
      "application/vnd.bokehjs_exec.v0+json": {
       "id": "596cf61a-51bd-4d01-aba0-801e243c8f27"
      }
     },
     "output_type": "display_data"
    },
    {
     "data": {
      "text/html": [
       "<p><code>&lt;Bokeh Notebook handle for <strong>In[6]</strong>&gt;</code></p>"
      ],
      "text/plain": [
       "<bokeh.io.notebook.CommsHandle at 0x25d1c3195f8>"
      ]
     },
     "execution_count": 6,
     "metadata": {},
     "output_type": "execute_result"
    }
   ],
   "source": [
    "endpoint = 'https://cognitiveusw2ppe.azure-api.net/anomalyfinder/v2.0/timeseries/entire/detect' \n",
    "subscription_key = '98e22f75493e4b9ebc3c8abddcf11a8d' #Here you have to paste your primary key\n",
    "sample_data = json.load(open('sample.json'))\n",
    "result = detect(endpoint, subscription_key, sample_data)\n",
    "columns = {'ExpectedValues': result['ExpectedValues'], 'IsAnomaly': result['IsAnomaly'], 'IsNegativeAnomaly': result['IsNegativeAnomaly'],\n",
    "          'IsPositiveAnomaly': result['IsPositiveAnomaly'], 'UpperMargins': result['UpperMargins'], 'LowerMargins': result['LowerMargins'],\n",
    "          'Timestamp': [parser.parse(x['Timestamp']) for x in sample_data['Series']], \n",
    "          'Value': [x['Value'] for x in sample_data['Series']]}\n",
    "response = pd.DataFrame(data=columns)\n",
    "\n",
    "boundary, anoms, p = build_figure(response)\n",
    "interact(update, sensitivity=widgets.IntSlider(min=0, max=99, value=99,step=1), boundary=fixed(boundary),\n",
    "         anoms=fixed(anoms), response=fixed(response))\n",
    "show(p, notebook_handle=True)"
   ]
  },
  {
   "cell_type": "markdown",
   "metadata": {},
   "source": [
    "### Detect latest anomaly of sample timeseries"
   ]
  },
  {
   "cell_type": "markdown",
   "metadata": {},
   "source": [
    "Find anomalies in batch will detect all points with same model, this method can not adapt to series pattern's change well. Usually, for online monitoring scenario, user can choose to detect latest one with a limited window size series, in the belowing example, we simulte a streaming scenario, each time we detect the latest one with 29 points before. (since period of the series is 7)."
   ]
  },
  {
   "cell_type": "code",
   "execution_count": 7,
   "metadata": {},
   "outputs": [],
   "source": [
    "# Variables\n",
    "import numpy as np\n",
    "endpoint = 'https://cognitiveusw2ppe.azure-api.net/anomalyfinder/v2.0/timeseries/last/detect'\n",
    "subscription_key = '98e22f75493e4b9ebc3c8abddcf11a8d' #Here you have to paste your primary key"
   ]
  },
  {
   "cell_type": "code",
   "execution_count": 8,
   "metadata": {},
   "outputs": [
    {
     "name": "stdout",
     "output_type": "stream",
     "text": [
      "10\n"
     ]
    }
   ],
   "source": [
    "sample_data = json.load(open('sample.json'))\n",
    "result = detect(endpoint, subscription_key, sample_data)\n",
    "\n",
    "points = sample_data['Series']\n",
    "skip_point = 50\n",
    "result = {'ExpectedValues': [None]*len(points), 'UpperMargins': [None]*len(points), \n",
    "          'LowerMargins': [None]*len(points), 'IsNegativeAnomaly': [False]*len(points), \n",
    "          'IsPositiveAnomaly':[False]*len(points), 'IsAnomaly': [False]*len(points)}\n",
    "anom_count = 0\n",
    "for i in range(skip_point, len(points)+1):\n",
    "    single_sample_data = {}\n",
    "    single_sample_data['Series'] = points[i-29:i]\n",
    "    single_sample_data['Granularity'] = 'daily'\n",
    "    single_sample_data['MaxAnomalyRatio'] = 0.25\n",
    "    single_point = detect(endpoint, subscription_key, single_sample_data)\n",
    "    if single_point['IsAnomaly'] == True:\n",
    "        anom_count = anom_count + 1\n",
    "        \n",
    "    result['ExpectedValues'][i-1] = single_point['ExpectedValue']\n",
    "    result['UpperMargins'][i-1] = single_point['UpperMargin']\n",
    "    result['LowerMargins'][i-1] = single_point['LowerMargin']\n",
    "    result['IsNegativeAnomaly'][i-1] = single_point['IsNegativeAnomaly']\n",
    "    result['IsPositiveAnomaly'][i-1] = single_point['IsPositiveAnomaly']\n",
    "    result['IsAnomaly'][i-1] = single_point['IsAnomaly']\n",
    "\n",
    "print(anom_count)"
   ]
  },
  {
   "cell_type": "code",
   "execution_count": 9,
   "metadata": {},
   "outputs": [
    {
     "name": "stdout",
     "output_type": "stream",
     "text": [
      "10\n"
     ]
    },
    {
     "data": {
      "application/vnd.jupyter.widget-view+json": {
       "model_id": "14a425b58d4a49a19f9933a18563558e",
       "version_major": 2,
       "version_minor": 0
      },
      "text/plain": [
       "interactive(children=(IntSlider(value=99, description='sensitivity', max=99), Output()), _dom_classes=('widget…"
      ]
     },
     "metadata": {},
     "output_type": "display_data"
    },
    {
     "data": {
      "text/html": [
       "\n",
       "<div class=\"bk-root\">\n",
       "    <div class=\"bk-plotdiv\" id=\"067c8cac-d3fc-4b81-8244-705828846501\"></div>\n",
       "</div>"
      ]
     },
     "metadata": {},
     "output_type": "display_data"
    },
    {
     "data": {
      "application/javascript": [
       "(function(root) {\n",
       "  function embed_document(root) {\n",
       "    \n",
       "  var docs_json = {\"2cba3ea0-92a0-46a6-8b5a-708651c89a4c\":{\"roots\":{\"references\":[{\"attributes\":{\"formatter\":{\"id\":\"a816798a-559d-427b-a09d-03314331b4ef\",\"type\":\"BasicTickFormatter\"},\"plot\":{\"id\":\"c2d063de-7ae7-48c2-826f-046a1ed0dd0c\",\"subtype\":\"Figure\",\"type\":\"Plot\"},\"ticker\":{\"id\":\"906bd26c-4904-46a0-8304-7a78a9b8476e\",\"type\":\"BasicTicker\"}},\"id\":\"81da187c-d2cd-4d6a-94d7-f7ecf6b09360\",\"type\":\"LinearAxis\"},{\"attributes\":{\"data_source\":{\"id\":\"4c0689d0-ebae-47d7-b2cc-944b4f4ea907\",\"type\":\"ColumnDataSource\"},\"glyph\":{\"id\":\"a8123a1f-59b2-46a6-9b07-e5c7e6678e8f\",\"type\":\"Circle\"},\"hover_glyph\":null,\"muted_glyph\":null,\"nonselection_glyph\":{\"id\":\"8886729b-6250-4228-bdca-9d249f41ee05\",\"type\":\"Circle\"},\"selection_glyph\":null,\"view\":{\"id\":\"6ffee9a1-938b-4f9a-94cb-b829e60f001c\",\"type\":\"CDSView\"}},\"id\":\"ffccdca4-6e86-49b7-8202-11ee13962a22\",\"type\":\"GlyphRenderer\"},{\"attributes\":{\"fill_alpha\":{\"value\":0.1},\"fill_color\":{\"value\":\"#1f77b4\"},\"line_alpha\":{\"value\":0.1},\"line_color\":{\"value\":\"#1f77b4\"},\"size\":{\"units\":\"screen\",\"value\":5},\"x\":{\"field\":\"x\"},\"y\":{\"field\":\"y\"}},\"id\":\"8886729b-6250-4228-bdca-9d249f41ee05\",\"type\":\"Circle\"},{\"attributes\":{\"source\":{\"id\":\"4c0689d0-ebae-47d7-b2cc-944b4f4ea907\",\"type\":\"ColumnDataSource\"}},\"id\":\"6ffee9a1-938b-4f9a-94cb-b829e60f001c\",\"type\":\"CDSView\"},{\"attributes\":{\"data_source\":{\"id\":\"859522cc-4738-47c0-856b-2f68415f74fe\",\"type\":\"ColumnDataSource\"},\"glyph\":{\"id\":\"cb09720e-98aa-41f8-b6a6-11267923a442\",\"type\":\"Patch\"},\"hover_glyph\":null,\"muted_glyph\":null,\"nonselection_glyph\":{\"id\":\"185eba43-7136-4379-b3b6-f0733af8b217\",\"type\":\"Patch\"},\"selection_glyph\":null,\"view\":{\"id\":\"7fdbd5d8-e5f2-4333-880b-b87ad81369ec\",\"type\":\"CDSView\"}},\"id\":\"46c0b754-f7c7-4231-af1b-eb5c14dc64d5\",\"type\":\"GlyphRenderer\"},{\"attributes\":{\"bottom_units\":\"screen\",\"fill_alpha\":{\"value\":0.5},\"fill_color\":{\"value\":\"lightgrey\"},\"left_units\":\"screen\",\"level\":\"overlay\",\"line_alpha\":{\"value\":1.0},\"line_color\":{\"value\":\"black\"},\"line_dash\":[4,4],\"line_width\":{\"value\":2},\"plot\":null,\"render_mode\":\"css\",\"right_units\":\"screen\",\"top_units\":\"screen\"},\"id\":\"a7deb849-c3d0-4c5d-994f-996dfa239472\",\"type\":\"BoxAnnotation\"},{\"attributes\":{},\"id\":\"0bf1c74b-6d8f-49dc-bbb2-5487f1dee1fe\",\"type\":\"WheelZoomTool\"},{\"attributes\":{\"fill_alpha\":0.1,\"fill_color\":\"#1f77b4\",\"line_alpha\":0.1,\"line_color\":\"#1f77b4\",\"x\":{\"field\":\"x\"},\"y\":{\"field\":\"y\"}},\"id\":\"185eba43-7136-4379-b3b6-f0733af8b217\",\"type\":\"Patch\"},{\"attributes\":{},\"id\":\"686e2e63-95ac-4543-9948-741669e5f56d\",\"type\":\"PanTool\"},{\"attributes\":{\"base\":24,\"mantissas\":[1,2,4,6,8,12],\"max_interval\":43200000.0,\"min_interval\":3600000.0,\"num_minor_ticks\":0},\"id\":\"8dd8e021-d2c1-4097-b03a-7aba9b732467\",\"type\":\"AdaptiveTicker\"},{\"attributes\":{},\"id\":\"38d91543-7b0b-45d5-a166-743563a62d86\",\"type\":\"SaveTool\"},{\"attributes\":{},\"id\":\"31ffed96-f379-4e68-8c38-bf9e4f81f05c\",\"type\":\"HelpTool\"},{\"attributes\":{\"callback\":null,\"data\":{\"x\":{\"__ndarray__\":\"AABAvO0ddkIAAAAiQB52QgAAwIeSHnZCAACA7eQedkIAAEBTNx92QgAAALmJH3ZCAADAHtwfdkIAAICELiB2QgAAQOqAIHZCAAAAUNMgdkIAAMC1JSF2QgAAgBt4IXZCAABAgcohdkIAAADnHCJ2QgAAwExvInZCAACAssEidkIAAEAYFCN2QgAAAH5mI3ZCAADA47gjdkIAAIBJCyR2QgAAQK9dJHZCAAAAFbAkdkIAAMB6AiV2QgAAgOBUJXZCAABARqcldkIAAACs+SV2QgAAwBFMJnZCAACAd54mdkIAAEDd8CZ2QgAAAENDJ3ZCAADAqJUndkIAAIAO6Cd2QgAAQHQ6KHZCAAAA2owodkIAAMA/3yh2QgAAgKUxKXZCAABAC4QpdkIAAABx1il2QgAAwNYoKnZCAACAPHsqdkIAAECizSp2QgAAAAggK3ZCAADAbXIrdkIAAIDTxCt2QgAAQDkXLHZCAAAAn2ksdkIAAMAEvCx2QgAAgGoOLXZCAABA0GAtdkIAAAA2sy12QgAAwJsFLnZCAACAAVgudkIAAEBnqi52QgAAAM38LnZCAADAMk8vdkIAAICYoS92QgAAQP7zL3ZCAAAAZEYwdkIAAMDJmDB2QgAAgC/rMHZCAABAlT0xdkIAAAD7jzF2QgAAwGDiMXZCAACAxjQydkIAAEAshzJ2QgAAAJLZMnZCAADA9yszdkIAAIBdfjN2QgAAQMPQM3ZCAAAAKSM0dkIAAMCOdTR2QgAAgPTHNHZCAABAWho1dkIAAADAbDV2QgAAwCW/NXZCAACAixE2dkIAAEDxYzZ2QgAAAFe2NnZCAADAvAg3dkIAAIAiWzd2QgAAQIitN3ZCAABAiK03dkIAAIAiWzd2QgAAwLwIN3ZCAAAAV7Y2dkIAAEDxYzZ2QgAAgIsRNnZCAADAJb81dkIAAADAbDV2QgAAQFoaNXZCAACA9Mc0dkIAAMCOdTR2QgAAACkjNHZCAABAw9AzdkIAAIBdfjN2QgAAwPcrM3ZCAAAAktkydkIAAEAshzJ2QgAAgMY0MnZCAADAYOIxdkIAAAD7jzF2QgAAQJU9MXZCAACAL+swdkIAAMDJmDB2QgAAAGRGMHZCAABA/vMvdkIAAICYoS92QgAAwDJPL3ZCAAAAzfwudkIAAEBnqi52QgAAgAFYLnZCAADAmwUudkIAAAA2sy12QgAAQNBgLXZCAACAag4tdkIAAMAEvCx2QgAAAJ9pLHZCAABAORcsdkIAAIDTxCt2QgAAwG1yK3ZCAAAACCArdkIAAECizSp2QgAAgDx7KnZCAADA1igqdkIAAABx1il2QgAAQAuEKXZCAACApTEpdkIAAMA/3yh2QgAAANqMKHZCAABAdDoodkIAAIAO6Cd2QgAAwKiVJ3ZCAAAAQ0MndkIAAEDd8CZ2QgAAgHeeJnZCAADAEUwmdkIAAACs+SV2QgAAQEanJXZCAACA4FQldkIAAMB6AiV2QgAAABWwJHZCAABAr10kdkIAAIBJCyR2QgAAwOO4I3ZCAAAAfmYjdkIAAEAYFCN2QgAAgLLBInZCAADATG8idkIAAADnHCJ2QgAAQIHKIXZCAACAG3ghdkIAAMC1JSF2QgAAAFDTIHZCAABA6oAgdkIAAICELiB2QgAAwB7cH3ZCAAAAuYkfdkIAAEBTNx92QgAAgO3kHnZCAADAh5IedkIAAAAiQB52QgAAQLztHXZC\",\"dtype\":\"float64\",\"shape\":[162]},\"y\":{\"__ndarray__\":\"AAAAAAAA+H8AAAAAAAD4fwAAAAAAAPh/AAAAAAAA+H8AAAAAAAD4fwAAAAAAAPh/AAAAAAAA+H8AAAAAAAD4fwAAAAAAAPh/AAAAAAAA+H8AAAAAAAD4fwAAAAAAAPh/AAAAAAAA+H8AAAAAAAD4fwAAAAAAAPh/AAAAAAAA+H8AAAAAAAD4fwAAAAAAAPh/AAAAAAAA+H8AAAAAAAD4fwAAAAAAAPh/AAAAAAAA+H8AAAAAAAD4fwAAAAAAAPh/AAAAAAAA+H8AAAAAAAD4fwAAAAAAAPh/AAAAAAAA+H8AAAAAAAD4fwAAAAAAAPh/AAAAAAAA+H8AAAAAAAD4fwAAAAAAAPh/AAAAAAAA+H8AAAAAAAD4fwAAAAAAAPh/AAAAAAAA+H8AAAAAAAD4fwAAAAAAAPh/AAAAAAAA+H8AAAAAAAD4fwAAAAAAAPh/AAAAAAAA+H8AAAAAAAD4fwAAAAAAAPh/AAAAAAAA+H8AAAAAAAD4fwAAAAAAAPh/AAAAAAAA+H8GsnRx/xx/Qcywk2I0fXxBAAAAsAPIdUEkCkw6sUF4QeR+C0lgR4BBVmLXzlMjgEEAAADoKAqAQQAAAGCpHX9BPQrXPy9/fEESFjzT9pJ1Qaed0eYdRXhBL7JpQsM5gEFoXGq/pgmAQaUv2lvVxX9B3jNhKLCGfkEWXk/1tUp9QQfhi/z+p3VBjJXhS4/ffUH2s8UKaqJ/QUBbrFzLXX9BvH62+IhFfkGemgeZTJJ7QW9PNnWYS3pBOuR8He2DeUFAW6ys5UqAQeZB7hIEPoBB2tkAaLOGgEH2Fu6qNBeAQSB3/ayXwXxB0pXoEHzVdUGajNxlEoB4QQAAAMj9zoBB8M3Fp3bmgEEAAABADPB4QWYh+nHQNHZBAAAAwE9WfUEAAACwkUaAQQAAACAIjoBBAAAAKASSgEEAAABgKJ+AQWw7v6/e+HlBdayyvqPMekEAAAAg5CB8QQAAAGAX4n5BAAAAmAEAgEEAAABgAiOAQQAAAFAOen5BmY71dRXodUGQaP5Rumt+QTI84xaitH9Bf3xtu2MxgEH8Cmj+CT2AQeF6FCgBVYBBqVlaYSk5eUG0oOSy/Px1QVO1WMNBf3xBpMFuI9Qdf0GY/cGcNgqAQQAAAIhYI4BBAAAAuGBHgEEAAAAAJL94QSw7e9zD3HVBAAAAQC9/fEEAAABgqR1/QQAAAAAAAPh/AAAAAAAA+H8AAAAAAAD4fwAAAAAAAPh/AAAAAAAA+H8AAAAAAAD4fwAAAAAAAPh/AAAAAAAA+H8AAAAAAAD4fwAAAAAAAPh/AAAAAAAA+H8AAAAAAAD4fwAAAAAAAPh/AAAAAAAA+H8AAAAAAAD4fwAAAAAAAPh/AAAAAAAA+H8AAAAAAAD4fwAAAAAAAPh/AAAAAAAA+H8AAAAAAAD4fwAAAAAAAPh/AAAAAAAA+H8AAAAAAAD4fwAAAAAAAPh/AAAAAAAA+H8AAAAAAAD4fwAAAAAAAPh/AAAAAAAA+H8AAAAAAAD4fwAAAAAAAPh/AAAAAAAA+H8AAAAAAAD4fwAAAAAAAPh/AAAAAAAA+H8AAAAAAAD4fwAAAAAAAPh/AAAAAAAA+H8AAAAAAAD4fwAAAAAAAPh/AAAAAAAA+H8AAAAAAAD4fwAAAAAAAPh/AAAAAAAA+H8AAAAAAAD4fwAAAAAAAPh/AAAAAAAA+H8AAAAAAAD4fwAAAAAAAPh/\",\"dtype\":\"float64\",\"shape\":[162]}},\"selected\":{\"id\":\"5e79fe23-690e-442e-bfe5-ed128948c95a\",\"type\":\"Selection\"},\"selection_policy\":{\"id\":\"8a3669c1-ee4f-40d8-80ce-66f5c146a83a\",\"type\":\"UnionRenderers\"}},\"id\":\"859522cc-4738-47c0-856b-2f68415f74fe\",\"type\":\"ColumnDataSource\"},{\"attributes\":{},\"id\":\"6169e3a0-cd51-44db-a92b-60fc3c8cf2d6\",\"type\":\"DatetimeTickFormatter\"},{\"attributes\":{\"source\":{\"id\":\"859522cc-4738-47c0-856b-2f68415f74fe\",\"type\":\"ColumnDataSource\"}},\"id\":\"7fdbd5d8-e5f2-4333-880b-b87ad81369ec\",\"type\":\"CDSView\"},{\"attributes\":{\"fill_alpha\":0.5,\"fill_color\":\"#bdd7e7\",\"line_color\":\"#bdd7e7\",\"x\":{\"field\":\"x\"},\"y\":{\"field\":\"y\"}},\"id\":\"cb09720e-98aa-41f8-b6a6-11267923a442\",\"type\":\"Patch\"},{\"attributes\":{\"overlay\":{\"id\":\"a7deb849-c3d0-4c5d-994f-996dfa239472\",\"type\":\"BoxAnnotation\"}},\"id\":\"aad4cf9d-06ed-4151-9f99-845090800b80\",\"type\":\"BoxZoomTool\"},{\"attributes\":{},\"id\":\"4cc569c6-ed9b-4f52-80a7-771e2e788e9c\",\"type\":\"ResetTool\"},{\"attributes\":{},\"id\":\"a816798a-559d-427b-a09d-03314331b4ef\",\"type\":\"BasicTickFormatter\"},{\"attributes\":{},\"id\":\"8a3669c1-ee4f-40d8-80ce-66f5c146a83a\",\"type\":\"UnionRenderers\"},{\"attributes\":{\"callback\":null,\"data\":{\"x\":[1524873600000.0,1524960000000.0,1525132800000.0,1525219200000.0,1525305600000.0,1525392000000.0,1525478400000.0,1525996800000.0,1526083200000.0,1526601600000.0],\"y\":[26530491,35445003,33423012,30744783,25825128,21244209,22576956,22815534,25557267,22504059]},\"selected\":{\"id\":\"afe24176-ed8b-4573-a9d6-298f622725fa\",\"type\":\"Selection\"},\"selection_policy\":{\"id\":\"56d2a59f-18d5-432e-894e-58e099466d97\",\"type\":\"UnionRenderers\"}},\"id\":\"4c0689d0-ebae-47d7-b2cc-944b4f4ea907\",\"type\":\"ColumnDataSource\"},{\"attributes\":{\"days\":[1,8,15,22]},\"id\":\"9add8a6a-b943-4a56-ada4-132270565c73\",\"type\":\"DaysTicker\"},{\"attributes\":{\"days\":[1,15]},\"id\":\"a24931e3-d264-46c1-8dc0-6bc58dc89a82\",\"type\":\"DaysTicker\"},{\"attributes\":{\"months\":[0,1,2,3,4,5,6,7,8,9,10,11]},\"id\":\"75ed9e68-b100-44be-b892-d3c94c161bc4\",\"type\":\"MonthsTicker\"},{\"attributes\":{\"background_fill_alpha\":{\"value\":0.1},\"items\":[{\"id\":\"b6f8cf09-082c-4b75-b02b-94935e6e1e84\",\"type\":\"LegendItem\"},{\"id\":\"536bd089-069d-4fd6-8079-15291ca3120c\",\"type\":\"LegendItem\"},{\"id\":\"e06324f6-eb62-42ae-aae0-6f8d79788185\",\"type\":\"LegendItem\"}],\"plot\":{\"id\":\"c2d063de-7ae7-48c2-826f-046a1ed0dd0c\",\"subtype\":\"Figure\",\"type\":\"Plot\"}},\"id\":\"c136f1fe-2ab2-4401-a616-d9a37c258df6\",\"type\":\"Legend\"},{\"attributes\":{\"days\":[1,2,3,4,5,6,7,8,9,10,11,12,13,14,15,16,17,18,19,20,21,22,23,24,25,26,27,28,29,30,31]},\"id\":\"52250bed-36b0-4967-95b6-64b58eaf3375\",\"type\":\"DaysTicker\"},{\"attributes\":{\"label\":{\"value\":\"Boundary\"},\"renderers\":[{\"id\":\"46c0b754-f7c7-4231-af1b-eb5c14dc64d5\",\"type\":\"GlyphRenderer\"}]},\"id\":\"b6f8cf09-082c-4b75-b02b-94935e6e1e84\",\"type\":\"LegendItem\"},{\"attributes\":{\"base\":60,\"mantissas\":[1,2,5,10,15,20,30],\"max_interval\":1800000.0,\"min_interval\":1000.0,\"num_minor_ticks\":0},\"id\":\"2985cc0a-4a55-4a94-95a7-a65ec46e3d12\",\"type\":\"AdaptiveTicker\"},{\"attributes\":{\"days\":[1,4,7,10,13,16,19,22,25,28]},\"id\":\"148ef506-c055-4270-879f-08ec0d150ef4\",\"type\":\"DaysTicker\"},{\"attributes\":{\"months\":[0,2,4,6,8,10]},\"id\":\"0f5de1ee-37cf-496c-a208-c356eafa8702\",\"type\":\"MonthsTicker\"},{\"attributes\":{},\"id\":\"2551c681-a050-4359-80c5-f14c08181cf4\",\"type\":\"YearsTicker\"},{\"attributes\":{\"months\":[0,4,8]},\"id\":\"f8aaeac6-0408-4598-9360-e450e913944c\",\"type\":\"MonthsTicker\"},{\"attributes\":{\"months\":[0,6]},\"id\":\"6cd9ec1e-c784-456b-9da0-51e5343449f0\",\"type\":\"MonthsTicker\"},{\"attributes\":{\"line_color\":\"#2222aa\",\"x\":{\"field\":\"x\"},\"y\":{\"field\":\"y\"}},\"id\":\"3d15454a-6812-454a-8711-1bd1b2bcf823\",\"type\":\"Line\"},{\"attributes\":{},\"id\":\"5e79fe23-690e-442e-bfe5-ed128948c95a\",\"type\":\"Selection\"},{\"attributes\":{\"callback\":null},\"id\":\"cd3c5fbe-6279-4e2d-9d71-b70317da85f5\",\"type\":\"DataRange1d\"},{\"attributes\":{\"callback\":null,\"data\":{\"x\":{\"__ndarray__\":\"AABAvO0ddkIAAAAiQB52QgAAwIeSHnZCAACA7eQedkIAAEBTNx92QgAAALmJH3ZCAADAHtwfdkIAAICELiB2QgAAQOqAIHZCAAAAUNMgdkIAAMC1JSF2QgAAgBt4IXZCAABAgcohdkIAAADnHCJ2QgAAwExvInZCAACAssEidkIAAEAYFCN2QgAAAH5mI3ZCAADA47gjdkIAAIBJCyR2QgAAQK9dJHZCAAAAFbAkdkIAAMB6AiV2QgAAgOBUJXZCAABARqcldkIAAACs+SV2QgAAwBFMJnZCAACAd54mdkIAAEDd8CZ2QgAAAENDJ3ZCAADAqJUndkIAAIAO6Cd2QgAAQHQ6KHZCAAAA2owodkIAAMA/3yh2QgAAgKUxKXZCAABAC4QpdkIAAABx1il2QgAAwNYoKnZCAACAPHsqdkIAAECizSp2QgAAAAggK3ZCAADAbXIrdkIAAIDTxCt2QgAAQDkXLHZCAAAAn2ksdkIAAMAEvCx2QgAAgGoOLXZCAABA0GAtdkIAAAA2sy12QgAAwJsFLnZCAACAAVgudkIAAEBnqi52QgAAAM38LnZCAADAMk8vdkIAAICYoS92QgAAQP7zL3ZCAAAAZEYwdkIAAMDJmDB2QgAAgC/rMHZCAABAlT0xdkIAAAD7jzF2QgAAwGDiMXZCAACAxjQydkIAAEAshzJ2QgAAAJLZMnZCAADA9yszdkIAAIBdfjN2QgAAQMPQM3ZCAAAAKSM0dkIAAMCOdTR2QgAAgPTHNHZCAABAWho1dkIAAADAbDV2QgAAwCW/NXZCAACAixE2dkIAAEDxYzZ2QgAAAFe2NnZCAADAvAg3dkIAAIAiWzd2QgAAQIitN3ZC\",\"dtype\":\"float64\",\"shape\":[81]},\"y\":[32858923,29615278,22839355,25948736,34139159,33843985,33637661,32627350,29881076,22681575,24629393,34010679,33893888,33760076,33093515,29945555,22839355,25948736,34139159,33843985,33637661,32627350,29881076,22839355,25948736,34139159,33843985,33637661,32627350,29881076,22676212,25262514,33631649,34468310,34212281,38144434,34212281,22839355,25948736,34139159,33843985,33637661,32627350,29881076,22839355,25948736,34139159,33843985,33637661,32627350,29881076,22839355,25948736,34139159,33843985,33637661,32627350,29881076,26530491,35445003,34250789,33423012,30744783,25825128,21244209,22576956,31957221,33841228,33554483,32383350,29494850,22815534,25557267,34858252,34750597,34717956,34132534,30762236,22504059,26149060,35250105]},\"selected\":{\"id\":\"a2b969d8-de4f-4e47-a413-9143290a6c55\",\"type\":\"Selection\"},\"selection_policy\":{\"id\":\"ebf964f4-50cb-4fa4-89c0-3f4eec906550\",\"type\":\"UnionRenderers\"}},\"id\":\"99846da9-d4e0-4919-845f-7a17a854cc21\",\"type\":\"ColumnDataSource\"},{\"attributes\":{\"dimension\":1,\"plot\":{\"id\":\"c2d063de-7ae7-48c2-826f-046a1ed0dd0c\",\"subtype\":\"Figure\",\"type\":\"Plot\"},\"ticker\":{\"id\":\"906bd26c-4904-46a0-8304-7a78a9b8476e\",\"type\":\"BasicTicker\"}},\"id\":\"7581990c-40cc-40c6-8e2e-a73f7be33806\",\"type\":\"Grid\"},{\"attributes\":{\"callback\":null,\"data\":{\"x\":{\"__ndarray__\":\"AABAvO0ddkIAAAAiQB52QgAAwIeSHnZCAACA7eQedkIAAEBTNx92QgAAALmJH3ZCAADAHtwfdkIAAICELiB2QgAAQOqAIHZCAAAAUNMgdkIAAMC1JSF2QgAAgBt4IXZCAABAgcohdkIAAADnHCJ2QgAAwExvInZCAACAssEidkIAAEAYFCN2QgAAAH5mI3ZCAADA47gjdkIAAIBJCyR2QgAAQK9dJHZCAAAAFbAkdkIAAMB6AiV2QgAAgOBUJXZCAABARqcldkIAAACs+SV2QgAAwBFMJnZCAACAd54mdkIAAEDd8CZ2QgAAAENDJ3ZCAADAqJUndkIAAIAO6Cd2QgAAQHQ6KHZCAAAA2owodkIAAMA/3yh2QgAAgKUxKXZCAABAC4QpdkIAAABx1il2QgAAwNYoKnZCAACAPHsqdkIAAECizSp2QgAAAAggK3ZCAADAbXIrdkIAAIDTxCt2QgAAQDkXLHZCAAAAn2ksdkIAAMAEvCx2QgAAgGoOLXZCAABA0GAtdkIAAAA2sy12QgAAwJsFLnZCAACAAVgudkIAAEBnqi52QgAAAM38LnZCAADAMk8vdkIAAICYoS92QgAAQP7zL3ZCAAAAZEYwdkIAAMDJmDB2QgAAgC/rMHZCAABAlT0xdkIAAAD7jzF2QgAAwGDiMXZCAACAxjQydkIAAEAshzJ2QgAAAJLZMnZCAADA9yszdkIAAIBdfjN2QgAAQMPQM3ZCAAAAKSM0dkIAAMCOdTR2QgAAgPTHNHZCAABAWho1dkIAAADAbDV2QgAAwCW/NXZCAACAixE2dkIAAEDxYzZ2QgAAAFe2NnZCAADAvAg3dkIAAIAiWzd2QgAAQIitN3ZC\",\"dtype\":\"float64\",\"shape\":[81]},\"y\":{\"__ndarray__\":\"AAAAAAAA+H8AAAAAAAD4fwAAAAAAAPh/AAAAAAAA+H8AAAAAAAD4fwAAAAAAAPh/AAAAAAAA+H8AAAAAAAD4fwAAAAAAAPh/AAAAAAAA+H8AAAAAAAD4fwAAAAAAAPh/AAAAAAAA+H8AAAAAAAD4fwAAAAAAAPh/AAAAAAAA+H8AAAAAAAD4fwAAAAAAAPh/AAAAAAAA+H8AAAAAAAD4fwAAAAAAAPh/AAAAAAAA+H8AAAAAAAD4fwAAAAAAAPh/AAAAAAAA+H8AAAAAAAD4fwAAAAAAAPh/AAAAAAAA+H8AAAAAAAD4fwAAAAAAAPh/AAAAAAAA+H8AAAAAAAD4fwAAAAAAAPh/AAAAAAAA+H8AAAAAAAD4fwAAAAAAAPh/AAAAAAAA+H8AAAAAAAD4fwAAAAAAAPh/AAAAAAAA+H8AAAAAAAD4fwAAAAAAAPh/AAAAAAAA+H8AAAAAAAD4fwAAAAAAAPh/AAAAAAAA+H8AAAAAAAD4fwAAAAAAAPh/AAAAAAAA+H8DWbpoVB1/QWbYSdExfnxBlp09xmPSdUESBSadaoB4QXK/hYBgR4BBK7FrK1YjgEHM/mDCLwqAQdJgt8G+HX9ByN+XgTh/fEFjWxDD+cd1Qaj7FaQjv3hBiBY/NWJHgEGyM+leWCOAQSlKrTQnCoBBCDiiH6kdf0FT46YjONt9QdC3QDkKyHVBxsrwzc4sfkH72WJlN/R/QaAtVkbnrn9BXj9bLNCTfkFPzYNcmNl7QfJ99BkejHpB0w+e5mW+eUGgLVYGB3WAQfMgdx0EaIBB7WwAxF2KgEF7C3ct4y6AQZC7frbzC31BnFtxQSYFdkFNRu5SD7h4Qfjm4je62oBB\",\"dtype\":\"float64\",\"shape\":[81]}},\"selected\":{\"id\":\"58589b90-c013-462e-a166-bff1b9bc12b1\",\"type\":\"Selection\"},\"selection_policy\":{\"id\":\"ba907d8d-b8a0-416c-8b99-b8406f77391d\",\"type\":\"UnionRenderers\"}},\"id\":\"89ac6b0f-ba39-4f49-bd88-b621aeb4df47\",\"type\":\"ColumnDataSource\"},{\"attributes\":{},\"id\":\"9b0dd60a-17a4-4911-afda-26c0c377b735\",\"type\":\"LinearScale\"},{\"attributes\":{\"line_alpha\":0.1,\"line_color\":\"#1f77b4\",\"x\":{\"field\":\"x\"},\"y\":{\"field\":\"y\"}},\"id\":\"f5886e58-3a80-474a-93e4-9f5cadc1cc8f\",\"type\":\"Line\"},{\"attributes\":{\"formatter\":{\"id\":\"6169e3a0-cd51-44db-a92b-60fc3c8cf2d6\",\"type\":\"DatetimeTickFormatter\"},\"plot\":{\"id\":\"c2d063de-7ae7-48c2-826f-046a1ed0dd0c\",\"subtype\":\"Figure\",\"type\":\"Plot\"},\"ticker\":{\"id\":\"bcfbf412-2ff2-435e-8e7b-db37752a42a9\",\"type\":\"DatetimeTicker\"}},\"id\":\"d4de2cda-1fc9-4bb5-b802-768a8adfca9e\",\"type\":\"DatetimeAxis\"},{\"attributes\":{\"data_source\":{\"id\":\"99846da9-d4e0-4919-845f-7a17a854cc21\",\"type\":\"ColumnDataSource\"},\"glyph\":{\"id\":\"3d15454a-6812-454a-8711-1bd1b2bcf823\",\"type\":\"Line\"},\"hover_glyph\":null,\"muted_glyph\":null,\"nonselection_glyph\":{\"id\":\"f5886e58-3a80-474a-93e4-9f5cadc1cc8f\",\"type\":\"Line\"},\"selection_glyph\":null,\"view\":{\"id\":\"66b69945-0b35-4fd6-bffc-bdd7934618fb\",\"type\":\"CDSView\"}},\"id\":\"607d1876-15d8-40ec-a5bb-8518903c4773\",\"type\":\"GlyphRenderer\"},{\"attributes\":{\"line_color\":\"olivedrab\",\"line_dash\":[2,4,6,4],\"x\":{\"field\":\"x\"},\"y\":{\"field\":\"y\"}},\"id\":\"f8abf198-8780-4897-9f2e-40c631f9252e\",\"type\":\"Line\"},{\"attributes\":{\"num_minor_ticks\":5,\"tickers\":[{\"id\":\"9a93923c-6826-46a8-a0f4-e8c519827a2c\",\"type\":\"AdaptiveTicker\"},{\"id\":\"2985cc0a-4a55-4a94-95a7-a65ec46e3d12\",\"type\":\"AdaptiveTicker\"},{\"id\":\"8dd8e021-d2c1-4097-b03a-7aba9b732467\",\"type\":\"AdaptiveTicker\"},{\"id\":\"52250bed-36b0-4967-95b6-64b58eaf3375\",\"type\":\"DaysTicker\"},{\"id\":\"148ef506-c055-4270-879f-08ec0d150ef4\",\"type\":\"DaysTicker\"},{\"id\":\"9add8a6a-b943-4a56-ada4-132270565c73\",\"type\":\"DaysTicker\"},{\"id\":\"a24931e3-d264-46c1-8dc0-6bc58dc89a82\",\"type\":\"DaysTicker\"},{\"id\":\"75ed9e68-b100-44be-b892-d3c94c161bc4\",\"type\":\"MonthsTicker\"},{\"id\":\"0f5de1ee-37cf-496c-a208-c356eafa8702\",\"type\":\"MonthsTicker\"},{\"id\":\"f8aaeac6-0408-4598-9360-e450e913944c\",\"type\":\"MonthsTicker\"},{\"id\":\"6cd9ec1e-c784-456b-9da0-51e5343449f0\",\"type\":\"MonthsTicker\"},{\"id\":\"2551c681-a050-4359-80c5-f14c08181cf4\",\"type\":\"YearsTicker\"}]},\"id\":\"bcfbf412-2ff2-435e-8e7b-db37752a42a9\",\"type\":\"DatetimeTicker\"},{\"attributes\":{\"source\":{\"id\":\"99846da9-d4e0-4919-845f-7a17a854cc21\",\"type\":\"ColumnDataSource\"}},\"id\":\"66b69945-0b35-4fd6-bffc-bdd7934618fb\",\"type\":\"CDSView\"},{\"attributes\":{},\"id\":\"ebf964f4-50cb-4fa4-89c0-3f4eec906550\",\"type\":\"UnionRenderers\"},{\"attributes\":{},\"id\":\"1441d761-1c31-4282-b714-b1b11fb9abe3\",\"type\":\"LinearScale\"},{\"attributes\":{\"data_source\":{\"id\":\"89ac6b0f-ba39-4f49-bd88-b621aeb4df47\",\"type\":\"ColumnDataSource\"},\"glyph\":{\"id\":\"f8abf198-8780-4897-9f2e-40c631f9252e\",\"type\":\"Line\"},\"hover_glyph\":null,\"muted_glyph\":null,\"nonselection_glyph\":{\"id\":\"436cab82-bad6-42eb-9ccf-4b8c4a1817d8\",\"type\":\"Line\"},\"selection_glyph\":null,\"view\":{\"id\":\"21b83416-b720-4985-8291-0bb7901e69dc\",\"type\":\"CDSView\"}},\"id\":\"abe95128-4070-42c9-ab35-f2684ebe172b\",\"type\":\"GlyphRenderer\"},{\"attributes\":{\"source\":{\"id\":\"89ac6b0f-ba39-4f49-bd88-b621aeb4df47\",\"type\":\"ColumnDataSource\"}},\"id\":\"21b83416-b720-4985-8291-0bb7901e69dc\",\"type\":\"CDSView\"},{\"attributes\":{\"line_alpha\":0.1,\"line_color\":\"#1f77b4\",\"line_dash\":[2,4,6,4],\"x\":{\"field\":\"x\"},\"y\":{\"field\":\"y\"}},\"id\":\"436cab82-bad6-42eb-9ccf-4b8c4a1817d8\",\"type\":\"Line\"},{\"attributes\":{\"mantissas\":[1,2,5],\"max_interval\":500.0,\"num_minor_ticks\":0},\"id\":\"9a93923c-6826-46a8-a0f4-e8c519827a2c\",\"type\":\"AdaptiveTicker\"},{\"attributes\":{\"plot\":{\"id\":\"c2d063de-7ae7-48c2-826f-046a1ed0dd0c\",\"subtype\":\"Figure\",\"type\":\"Plot\"},\"ticker\":{\"id\":\"bcfbf412-2ff2-435e-8e7b-db37752a42a9\",\"type\":\"DatetimeTicker\"}},\"id\":\"143f0d08-8992-4457-973f-71868f530ac5\",\"type\":\"Grid\"},{\"attributes\":{},\"id\":\"a2b969d8-de4f-4e47-a413-9143290a6c55\",\"type\":\"Selection\"},{\"attributes\":{\"label\":{\"value\":\"ExpectedValue\"},\"renderers\":[{\"id\":\"abe95128-4070-42c9-ab35-f2684ebe172b\",\"type\":\"GlyphRenderer\"}]},\"id\":\"e06324f6-eb62-42ae-aae0-6f8d79788185\",\"type\":\"LegendItem\"},{\"attributes\":{\"fill_color\":{\"value\":\"tomato\"},\"line_color\":{\"value\":\"tomato\"},\"size\":{\"units\":\"screen\",\"value\":5},\"x\":{\"field\":\"x\"},\"y\":{\"field\":\"y\"}},\"id\":\"a8123a1f-59b2-46a6-9b07-e5c7e6678e8f\",\"type\":\"Circle\"},{\"attributes\":{},\"id\":\"56d2a59f-18d5-432e-894e-58e099466d97\",\"type\":\"UnionRenderers\"},{\"attributes\":{\"label\":{\"value\":\"Value\"},\"renderers\":[{\"id\":\"607d1876-15d8-40ec-a5bb-8518903c4773\",\"type\":\"GlyphRenderer\"}]},\"id\":\"536bd089-069d-4fd6-8079-15291ca3120c\",\"type\":\"LegendItem\"},{\"attributes\":{\"callback\":null},\"id\":\"a0d0a566-39a7-4aaa-b4da-f3394955acd7\",\"type\":\"DataRange1d\"},{\"attributes\":{},\"id\":\"afe24176-ed8b-4573-a9d6-298f622725fa\",\"type\":\"Selection\"},{\"attributes\":{},\"id\":\"906bd26c-4904-46a0-8304-7a78a9b8476e\",\"type\":\"BasicTicker\"},{\"attributes\":{\"active_drag\":\"auto\",\"active_inspect\":\"auto\",\"active_scroll\":\"auto\",\"active_tap\":\"auto\",\"tools\":[{\"id\":\"686e2e63-95ac-4543-9948-741669e5f56d\",\"type\":\"PanTool\"},{\"id\":\"0bf1c74b-6d8f-49dc-bbb2-5487f1dee1fe\",\"type\":\"WheelZoomTool\"},{\"id\":\"aad4cf9d-06ed-4151-9f99-845090800b80\",\"type\":\"BoxZoomTool\"},{\"id\":\"38d91543-7b0b-45d5-a166-743563a62d86\",\"type\":\"SaveTool\"},{\"id\":\"4cc569c6-ed9b-4f52-80a7-771e2e788e9c\",\"type\":\"ResetTool\"},{\"id\":\"31ffed96-f379-4e68-8c38-bf9e4f81f05c\",\"type\":\"HelpTool\"}]},\"id\":\"83084e6d-b28c-4d40-a283-1925b9cee688\",\"type\":\"Toolbar\"},{\"attributes\":{\"below\":[{\"id\":\"d4de2cda-1fc9-4bb5-b802-768a8adfca9e\",\"type\":\"DatetimeAxis\"}],\"left\":[{\"id\":\"81da187c-d2cd-4d6a-94d7-f7ecf6b09360\",\"type\":\"LinearAxis\"}],\"plot_width\":800,\"renderers\":[{\"id\":\"d4de2cda-1fc9-4bb5-b802-768a8adfca9e\",\"type\":\"DatetimeAxis\"},{\"id\":\"143f0d08-8992-4457-973f-71868f530ac5\",\"type\":\"Grid\"},{\"id\":\"81da187c-d2cd-4d6a-94d7-f7ecf6b09360\",\"type\":\"LinearAxis\"},{\"id\":\"7581990c-40cc-40c6-8e2e-a73f7be33806\",\"type\":\"Grid\"},{\"id\":\"a7deb849-c3d0-4c5d-994f-996dfa239472\",\"type\":\"BoxAnnotation\"},{\"id\":\"c136f1fe-2ab2-4401-a616-d9a37c258df6\",\"type\":\"Legend\"},{\"id\":\"46c0b754-f7c7-4231-af1b-eb5c14dc64d5\",\"type\":\"GlyphRenderer\"},{\"id\":\"607d1876-15d8-40ec-a5bb-8518903c4773\",\"type\":\"GlyphRenderer\"},{\"id\":\"abe95128-4070-42c9-ab35-f2684ebe172b\",\"type\":\"GlyphRenderer\"},{\"id\":\"ffccdca4-6e86-49b7-8202-11ee13962a22\",\"type\":\"GlyphRenderer\"}],\"title\":{\"id\":\"44e8b261-6b16-4f4b-9709-2d97fcb95a71\",\"type\":\"Title\"},\"toolbar\":{\"id\":\"83084e6d-b28c-4d40-a283-1925b9cee688\",\"type\":\"Toolbar\"},\"x_range\":{\"id\":\"a0d0a566-39a7-4aaa-b4da-f3394955acd7\",\"type\":\"DataRange1d\"},\"x_scale\":{\"id\":\"9b0dd60a-17a4-4911-afda-26c0c377b735\",\"type\":\"LinearScale\"},\"y_range\":{\"id\":\"cd3c5fbe-6279-4e2d-9d71-b70317da85f5\",\"type\":\"DataRange1d\"},\"y_scale\":{\"id\":\"1441d761-1c31-4282-b714-b1b11fb9abe3\",\"type\":\"LinearScale\"}},\"id\":\"c2d063de-7ae7-48c2-826f-046a1ed0dd0c\",\"subtype\":\"Figure\",\"type\":\"Plot\"},{\"attributes\":{\"plot\":null,\"text\":\"Anomaly Finder Result\"},\"id\":\"44e8b261-6b16-4f4b-9709-2d97fcb95a71\",\"type\":\"Title\"},{\"attributes\":{},\"id\":\"58589b90-c013-462e-a166-bff1b9bc12b1\",\"type\":\"Selection\"},{\"attributes\":{},\"id\":\"ba907d8d-b8a0-416c-8b99-b8406f77391d\",\"type\":\"UnionRenderers\"}],\"root_ids\":[\"c2d063de-7ae7-48c2-826f-046a1ed0dd0c\"]},\"title\":\"Bokeh Application\",\"version\":\"0.12.16\"}};\n",
       "  var render_items = [{\"docid\":\"2cba3ea0-92a0-46a6-8b5a-708651c89a4c\",\"elementid\":\"067c8cac-d3fc-4b81-8244-705828846501\",\"modelid\":\"c2d063de-7ae7-48c2-826f-046a1ed0dd0c\",\"notebook_comms_target\":\"51332fee-58ac-4208-a62c-ca4716f25efc\"}];\n",
       "  root.Bokeh.embed.embed_items_notebook(docs_json, render_items);\n",
       "\n",
       "  }\n",
       "  if (root.Bokeh !== undefined) {\n",
       "    embed_document(root);\n",
       "  } else {\n",
       "    var attempts = 0;\n",
       "    var timer = setInterval(function(root) {\n",
       "      if (root.Bokeh !== undefined) {\n",
       "        embed_document(root);\n",
       "        clearInterval(timer);\n",
       "      }\n",
       "      attempts++;\n",
       "      if (attempts > 100) {\n",
       "        console.log(\"Bokeh: ERROR: Unable to run BokehJS code because BokehJS library is missing\")\n",
       "        clearInterval(timer);\n",
       "      }\n",
       "    }, 10, root)\n",
       "  }\n",
       "})(window);"
      ],
      "application/vnd.bokehjs_exec.v0+json": ""
     },
     "metadata": {
      "application/vnd.bokehjs_exec.v0+json": {
       "id": "c2d063de-7ae7-48c2-826f-046a1ed0dd0c"
      }
     },
     "output_type": "display_data"
    },
    {
     "data": {
      "text/html": [
       "<p><code>&lt;Bokeh Notebook handle for <strong>In[9]</strong>&gt;</code></p>"
      ],
      "text/plain": [
       "<bokeh.io.notebook.CommsHandle at 0x25d1c367b00>"
      ]
     },
     "execution_count": 9,
     "metadata": {},
     "output_type": "execute_result"
    }
   ],
   "source": [
    "columns = {'ExpectedValues': result['ExpectedValues'], 'IsAnomaly': result['IsAnomaly'], 'IsNegativeAnomaly': result['IsNegativeAnomaly'],\n",
    "              'IsPositiveAnomaly': result['IsPositiveAnomaly'], 'UpperMargins': result['UpperMargins'], 'LowerMargins': result['LowerMargins']\n",
    "              , 'Value': [x['Value'] for x in sample_data['Series']], 'Timestamp': [parser.parse(x['Timestamp']) for x in sample_data['Series']]}\n",
    "response = pd.DataFrame(data=columns)\n",
    "\n",
    "boundary, anoms, p = build_figure(response)\n",
    "interact(update, sensitivity=widgets.IntSlider(min=0, max=99, value=99,step=1), boundary=fixed(boundary),\n",
    "         anoms=fixed(anoms), response=fixed(response))\n",
    "show(p, notebook_handle=True)"
   ]
  },
  {
   "cell_type": "code",
   "execution_count": null,
   "metadata": {},
   "outputs": [],
   "source": []
  }
 ],
 "metadata": {
  "kernelspec": {
   "display_name": "Python 3",
   "language": "python",
   "name": "python3"
  },
  "language_info": {
   "codemirror_mode": {
    "name": "ipython",
    "version": 3
   },
   "file_extension": ".py",
   "mimetype": "text/x-python",
   "name": "python",
   "nbconvert_exporter": "python",
   "pygments_lexer": "ipython3",
   "version": "3.6.5"
  }
 },
 "nbformat": 4,
 "nbformat_minor": 2
}
